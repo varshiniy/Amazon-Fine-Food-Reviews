{
 "cells": [
  {
   "cell_type": "markdown",
   "metadata": {
    "colab_type": "text",
    "id": "4UPJU7FIDYHb"
   },
   "source": [
    "# Amazon Fine Food Reviews Analysis\n",
    "\n",
    "\n",
    "Data Source: https://www.kaggle.com/snap/amazon-fine-food-reviews <br>\n",
    "\n",
    "EDA: https://nycdatascience.com/blog/student-works/amazon-fine-foods-visualization/\n",
    "\n",
    "\n",
    "The Amazon Fine Food Reviews dataset consists of reviews of fine foods from Amazon.<br>\n",
    "\n",
    "Number of reviews: 568,454<br>\n",
    "Number of users: 256,059<br>\n",
    "Number of products: 74,258<br>\n",
    "Timespan: Oct 1999 - Oct 2012<br>\n",
    "Number of Attributes/Columns in data: 10 \n",
    "\n",
    "Attribute Information:\n",
    "\n",
    "1. Id\n",
    "2. ProductId - unique identifier for the product\n",
    "3. UserId - unqiue identifier for the user\n",
    "4. ProfileName\n",
    "5. HelpfulnessNumerator - number of users who found the review helpful\n",
    "6. HelpfulnessDenominator - number of users who indicated whether they found the review helpful or not\n",
    "7. Score - rating between 1 and 5\n",
    "8. Time - timestamp for the review\n",
    "9. Summary - brief summary of the review\n",
    "10. Text - text of the review\n",
    "\n",
    "\n",
    "#### Objective:\n",
    "Given a review, determine whether the review is positive (rating of 4 or 5) or negative (rating of 1 or 2).\n",
    "\n",
    "<br>\n",
    "[Q] How to determine if a review is positive or negative?<br>\n",
    "<br> \n",
    "[Ans] We could use Score/Rating. A rating of 4 or 5 can be cosnidered as a positive review. A rating of 1 or 2 can be considered as negative one. A review of rating 3 is considered nuetral and such reviews are ignored from our analysis. This is an approximate and proxy way of determining the polarity (positivity/negativity) of a review.\n",
    "\n",
    "\n"
   ]
  },
  {
   "cell_type": "markdown",
   "metadata": {
    "colab_type": "text",
    "id": "Iac3VjZcDYHf"
   },
   "source": [
    "# [1]. Reading Data"
   ]
  },
  {
   "cell_type": "markdown",
   "metadata": {
    "colab_type": "text",
    "id": "wEsMRzNDDYHi"
   },
   "source": [
    "## [1.1] Loading the data\n",
    "\n",
    "The dataset is available in two forms\n",
    "1. .csv file\n",
    "2. SQLite Database\n",
    "\n",
    "In order to load the data, We have used the SQLITE dataset as it is easier to query the data and visualise the data efficiently.\n",
    "<br> \n",
    "\n",
    "Here as we only want to get the global sentiment of the recommendations (positive or negative), we will purposefully ignore all Scores equal to 3. If the score is above 3, then the recommendation wil be set to \"positive\". Otherwise, it will be set to \"negative\"."
   ]
  },
  {
   "cell_type": "code",
   "execution_count": 114,
   "metadata": {
    "colab": {},
    "colab_type": "code",
    "id": "ADl9geUvDYHl"
   },
   "outputs": [],
   "source": [
    "%matplotlib inline\n",
    "import warnings\n",
    "warnings.filterwarnings(\"ignore\")\n",
    "\n",
    "\n",
    "import sqlite3\n",
    "import pandas as pd\n",
    "import numpy as np\n",
    "import nltk\n",
    "import string\n",
    "import matplotlib.pyplot as plt\n",
    "import seaborn as sns\n",
    "from sklearn.feature_extraction.text import TfidfTransformer\n",
    "from sklearn.feature_extraction.text import TfidfVectorizer\n",
    "\n",
    "from sklearn.feature_extraction.text import CountVectorizer\n",
    "from sklearn.metrics import confusion_matrix\n",
    "from sklearn import metrics\n",
    "from sklearn.metrics import roc_curve, auc\n",
    "from nltk.stem.porter import PorterStemmer\n",
    "\n",
    "import re\n",
    "# Tutorial about Python regular expressions: https://pymotw.com/2/re/\n",
    "import string\n",
    "from nltk.corpus import stopwords\n",
    "from nltk.stem import PorterStemmer\n",
    "from nltk.stem.wordnet import WordNetLemmatizer\n",
    "\n",
    "from gensim.models import Word2Vec\n",
    "from gensim.models import KeyedVectors\n",
    "import pickle\n",
    "\n",
    "from tqdm import tqdm\n",
    "import os"
   ]
  },
  {
   "cell_type": "code",
   "execution_count": 115,
   "metadata": {
    "colab": {},
    "colab_type": "code",
    "id": "9pO69buUDYHz",
    "outputId": "00371235-7840-4a31-be63-4945d6cbbb2e"
   },
   "outputs": [
    {
     "name": "stdout",
     "output_type": "stream",
     "text": [
      "Number of data points in our data (525814, 10)\n"
     ]
    },
    {
     "data": {
      "text/html": [
       "<div>\n",
       "<style scoped>\n",
       "    .dataframe tbody tr th:only-of-type {\n",
       "        vertical-align: middle;\n",
       "    }\n",
       "\n",
       "    .dataframe tbody tr th {\n",
       "        vertical-align: top;\n",
       "    }\n",
       "\n",
       "    .dataframe thead th {\n",
       "        text-align: right;\n",
       "    }\n",
       "</style>\n",
       "<table border=\"1\" class=\"dataframe\">\n",
       "  <thead>\n",
       "    <tr style=\"text-align: right;\">\n",
       "      <th></th>\n",
       "      <th>Id</th>\n",
       "      <th>ProductId</th>\n",
       "      <th>UserId</th>\n",
       "      <th>ProfileName</th>\n",
       "      <th>HelpfulnessNumerator</th>\n",
       "      <th>HelpfulnessDenominator</th>\n",
       "      <th>Score</th>\n",
       "      <th>Time</th>\n",
       "      <th>Summary</th>\n",
       "      <th>Text</th>\n",
       "    </tr>\n",
       "  </thead>\n",
       "  <tbody>\n",
       "    <tr>\n",
       "      <th>0</th>\n",
       "      <td>1</td>\n",
       "      <td>B001E4KFG0</td>\n",
       "      <td>A3SGXH7AUHU8GW</td>\n",
       "      <td>delmartian</td>\n",
       "      <td>1</td>\n",
       "      <td>1</td>\n",
       "      <td>1</td>\n",
       "      <td>1303862400</td>\n",
       "      <td>Good Quality Dog Food</td>\n",
       "      <td>I have bought several of the Vitality canned d...</td>\n",
       "    </tr>\n",
       "    <tr>\n",
       "      <th>1</th>\n",
       "      <td>2</td>\n",
       "      <td>B00813GRG4</td>\n",
       "      <td>A1D87F6ZCVE5NK</td>\n",
       "      <td>dll pa</td>\n",
       "      <td>0</td>\n",
       "      <td>0</td>\n",
       "      <td>0</td>\n",
       "      <td>1346976000</td>\n",
       "      <td>Not as Advertised</td>\n",
       "      <td>Product arrived labeled as Jumbo Salted Peanut...</td>\n",
       "    </tr>\n",
       "    <tr>\n",
       "      <th>2</th>\n",
       "      <td>3</td>\n",
       "      <td>B000LQOCH0</td>\n",
       "      <td>ABXLMWJIXXAIN</td>\n",
       "      <td>Natalia Corres \"Natalia Corres\"</td>\n",
       "      <td>1</td>\n",
       "      <td>1</td>\n",
       "      <td>1</td>\n",
       "      <td>1219017600</td>\n",
       "      <td>\"Delight\" says it all</td>\n",
       "      <td>This is a confection that has been around a fe...</td>\n",
       "    </tr>\n",
       "  </tbody>\n",
       "</table>\n",
       "</div>"
      ],
      "text/plain": [
       "   Id   ProductId          UserId                      ProfileName  \\\n",
       "0   1  B001E4KFG0  A3SGXH7AUHU8GW                       delmartian   \n",
       "1   2  B00813GRG4  A1D87F6ZCVE5NK                           dll pa   \n",
       "2   3  B000LQOCH0   ABXLMWJIXXAIN  Natalia Corres \"Natalia Corres\"   \n",
       "\n",
       "   HelpfulnessNumerator  HelpfulnessDenominator  Score        Time  \\\n",
       "0                     1                       1      1  1303862400   \n",
       "1                     0                       0      0  1346976000   \n",
       "2                     1                       1      1  1219017600   \n",
       "\n",
       "                 Summary                                               Text  \n",
       "0  Good Quality Dog Food  I have bought several of the Vitality canned d...  \n",
       "1      Not as Advertised  Product arrived labeled as Jumbo Salted Peanut...  \n",
       "2  \"Delight\" says it all  This is a confection that has been around a fe...  "
      ]
     },
     "execution_count": 115,
     "metadata": {},
     "output_type": "execute_result"
    }
   ],
   "source": [
    "# using SQLite Table to read data.\n",
    "con = sqlite3.connect('database.sqlite') \n",
    "\n",
    "# filtering only positive and negative reviews i.e. \n",
    "# not taking into consideration those reviews with Score=3\n",
    "# SELECT * FROM Reviews WHERE Score != 3 LIMIT 500000, will give top 500000 data points\n",
    "# you can change the number to any other number based on your computing power\n",
    "\n",
    "# filtered_data = pd.read_sql_query(\"\"\" SELECT * FROM Reviews WHERE Score != 3 LIMIT 500000\"\"\", con) \n",
    "# for tsne assignment you can take 5k data points\n",
    "\n",
    "filtered_data = pd.read_sql_query(\"\"\" SELECT * FROM Reviews WHERE Score != 3 \"\"\", con) \n",
    "\n",
    "# Give reviews with Score>3 a positive rating(1), and reviews with a score<3 a negative rating(0).\n",
    "def partition(x):\n",
    "    if x < 3:\n",
    "        return 0\n",
    "    return 1\n",
    "\n",
    "#changing reviews with score less than 3 to be positive and vice-versa\n",
    "actualScore = filtered_data['Score']\n",
    "positiveNegative = actualScore.map(partition) \n",
    "filtered_data['Score'] = positiveNegative\n",
    "print(\"Number of data points in our data\", filtered_data.shape)\n",
    "filtered_data.head(3)"
   ]
  },
  {
   "cell_type": "code",
   "execution_count": 3,
   "metadata": {
    "colab": {},
    "colab_type": "code",
    "id": "bDrGXaolDYIH"
   },
   "outputs": [],
   "source": [
    "display = pd.read_sql_query(\"\"\"\n",
    "SELECT UserId, ProductId, ProfileName, Time, Score, Text, COUNT(*)\n",
    "FROM Reviews\n",
    "GROUP BY UserId\n",
    "HAVING COUNT(*)>1\n",
    "\"\"\", con)"
   ]
  },
  {
   "cell_type": "code",
   "execution_count": 4,
   "metadata": {
    "colab": {},
    "colab_type": "code",
    "id": "Jj-M3g0FDYIj",
    "outputId": "2c700ad5-02ad-4f43-a532-fb847609043e",
    "scrolled": true
   },
   "outputs": [
    {
     "name": "stdout",
     "output_type": "stream",
     "text": [
      "(80668, 7)\n"
     ]
    },
    {
     "data": {
      "text/html": [
       "<div>\n",
       "<style scoped>\n",
       "    .dataframe tbody tr th:only-of-type {\n",
       "        vertical-align: middle;\n",
       "    }\n",
       "\n",
       "    .dataframe tbody tr th {\n",
       "        vertical-align: top;\n",
       "    }\n",
       "\n",
       "    .dataframe thead th {\n",
       "        text-align: right;\n",
       "    }\n",
       "</style>\n",
       "<table border=\"1\" class=\"dataframe\">\n",
       "  <thead>\n",
       "    <tr style=\"text-align: right;\">\n",
       "      <th></th>\n",
       "      <th>UserId</th>\n",
       "      <th>ProductId</th>\n",
       "      <th>ProfileName</th>\n",
       "      <th>Time</th>\n",
       "      <th>Score</th>\n",
       "      <th>Text</th>\n",
       "      <th>COUNT(*)</th>\n",
       "    </tr>\n",
       "  </thead>\n",
       "  <tbody>\n",
       "    <tr>\n",
       "      <th>0</th>\n",
       "      <td>#oc-R115TNMSPFT9I7</td>\n",
       "      <td>B007Y59HVM</td>\n",
       "      <td>Breyton</td>\n",
       "      <td>1331510400</td>\n",
       "      <td>2</td>\n",
       "      <td>Overall its just OK when considering the price...</td>\n",
       "      <td>2</td>\n",
       "    </tr>\n",
       "    <tr>\n",
       "      <th>1</th>\n",
       "      <td>#oc-R11D9D7SHXIJB9</td>\n",
       "      <td>B005HG9ET0</td>\n",
       "      <td>Louis E. Emory \"hoppy\"</td>\n",
       "      <td>1342396800</td>\n",
       "      <td>5</td>\n",
       "      <td>My wife has recurring extreme muscle spasms, u...</td>\n",
       "      <td>3</td>\n",
       "    </tr>\n",
       "    <tr>\n",
       "      <th>2</th>\n",
       "      <td>#oc-R11DNU2NBKQ23Z</td>\n",
       "      <td>B007Y59HVM</td>\n",
       "      <td>Kim Cieszykowski</td>\n",
       "      <td>1348531200</td>\n",
       "      <td>1</td>\n",
       "      <td>This coffee is horrible and unfortunately not ...</td>\n",
       "      <td>2</td>\n",
       "    </tr>\n",
       "    <tr>\n",
       "      <th>3</th>\n",
       "      <td>#oc-R11O5J5ZVQE25C</td>\n",
       "      <td>B005HG9ET0</td>\n",
       "      <td>Penguin Chick</td>\n",
       "      <td>1346889600</td>\n",
       "      <td>5</td>\n",
       "      <td>This will be the bottle that you grab from the...</td>\n",
       "      <td>3</td>\n",
       "    </tr>\n",
       "    <tr>\n",
       "      <th>4</th>\n",
       "      <td>#oc-R12KPBODL2B5ZD</td>\n",
       "      <td>B007OSBE1U</td>\n",
       "      <td>Christopher P. Presta</td>\n",
       "      <td>1348617600</td>\n",
       "      <td>1</td>\n",
       "      <td>I didnt like this coffee. Instead of telling y...</td>\n",
       "      <td>2</td>\n",
       "    </tr>\n",
       "  </tbody>\n",
       "</table>\n",
       "</div>"
      ],
      "text/plain": [
       "               UserId   ProductId             ProfileName        Time  Score  \\\n",
       "0  #oc-R115TNMSPFT9I7  B007Y59HVM                 Breyton  1331510400      2   \n",
       "1  #oc-R11D9D7SHXIJB9  B005HG9ET0  Louis E. Emory \"hoppy\"  1342396800      5   \n",
       "2  #oc-R11DNU2NBKQ23Z  B007Y59HVM        Kim Cieszykowski  1348531200      1   \n",
       "3  #oc-R11O5J5ZVQE25C  B005HG9ET0           Penguin Chick  1346889600      5   \n",
       "4  #oc-R12KPBODL2B5ZD  B007OSBE1U   Christopher P. Presta  1348617600      1   \n",
       "\n",
       "                                                Text  COUNT(*)  \n",
       "0  Overall its just OK when considering the price...         2  \n",
       "1  My wife has recurring extreme muscle spasms, u...         3  \n",
       "2  This coffee is horrible and unfortunately not ...         2  \n",
       "3  This will be the bottle that you grab from the...         3  \n",
       "4  I didnt like this coffee. Instead of telling y...         2  "
      ]
     },
     "execution_count": 4,
     "metadata": {},
     "output_type": "execute_result"
    }
   ],
   "source": [
    "print(display.shape)\n",
    "display.head()"
   ]
  },
  {
   "cell_type": "code",
   "execution_count": 5,
   "metadata": {
    "colab": {},
    "colab_type": "code",
    "id": "eAG-AQpWDYIx",
    "outputId": "889e7973-47ab-423b-fd10-ee5058498ad0"
   },
   "outputs": [
    {
     "data": {
      "text/html": [
       "<div>\n",
       "<style scoped>\n",
       "    .dataframe tbody tr th:only-of-type {\n",
       "        vertical-align: middle;\n",
       "    }\n",
       "\n",
       "    .dataframe tbody tr th {\n",
       "        vertical-align: top;\n",
       "    }\n",
       "\n",
       "    .dataframe thead th {\n",
       "        text-align: right;\n",
       "    }\n",
       "</style>\n",
       "<table border=\"1\" class=\"dataframe\">\n",
       "  <thead>\n",
       "    <tr style=\"text-align: right;\">\n",
       "      <th></th>\n",
       "      <th>UserId</th>\n",
       "      <th>ProductId</th>\n",
       "      <th>ProfileName</th>\n",
       "      <th>Time</th>\n",
       "      <th>Score</th>\n",
       "      <th>Text</th>\n",
       "      <th>COUNT(*)</th>\n",
       "    </tr>\n",
       "  </thead>\n",
       "  <tbody>\n",
       "    <tr>\n",
       "      <th>80638</th>\n",
       "      <td>AZY10LLTJ71NX</td>\n",
       "      <td>B006P7E5ZI</td>\n",
       "      <td>undertheshrine \"undertheshrine\"</td>\n",
       "      <td>1334707200</td>\n",
       "      <td>5</td>\n",
       "      <td>I was recommended to try green tea extract to ...</td>\n",
       "      <td>5</td>\n",
       "    </tr>\n",
       "  </tbody>\n",
       "</table>\n",
       "</div>"
      ],
      "text/plain": [
       "              UserId   ProductId                      ProfileName        Time  \\\n",
       "80638  AZY10LLTJ71NX  B006P7E5ZI  undertheshrine \"undertheshrine\"  1334707200   \n",
       "\n",
       "       Score                                               Text  COUNT(*)  \n",
       "80638      5  I was recommended to try green tea extract to ...         5  "
      ]
     },
     "execution_count": 5,
     "metadata": {},
     "output_type": "execute_result"
    }
   ],
   "source": [
    "display[display['UserId']=='AZY10LLTJ71NX']"
   ]
  },
  {
   "cell_type": "code",
   "execution_count": 6,
   "metadata": {
    "colab": {},
    "colab_type": "code",
    "id": "3qBpPZKaDYI7",
    "outputId": "375dd0be-186a-4b00-8594-06fb20ded08a"
   },
   "outputs": [
    {
     "data": {
      "text/plain": [
       "393063"
      ]
     },
     "execution_count": 6,
     "metadata": {},
     "output_type": "execute_result"
    }
   ],
   "source": [
    "display['COUNT(*)'].sum()"
   ]
  },
  {
   "cell_type": "markdown",
   "metadata": {
    "colab_type": "text",
    "id": "G1rTdPsqDYJI"
   },
   "source": [
    "#  [2] Exploratory Data Analysis"
   ]
  },
  {
   "cell_type": "markdown",
   "metadata": {
    "colab_type": "text",
    "id": "Wh5RH-NsDYJJ"
   },
   "source": [
    "## [2.1] Data Cleaning: Deduplication\n",
    "\n",
    "It is observed (as shown in the table below) that the reviews data had many duplicate entries. Hence it was necessary to remove duplicates in order to get unbiased results for the analysis of the data.  Following is an example:"
   ]
  },
  {
   "cell_type": "code",
   "execution_count": 7,
   "metadata": {
    "colab": {},
    "colab_type": "code",
    "id": "EUF69tvsDYJO",
    "outputId": "d08434a0-b58a-4d4a-db71-729bbb1539e5",
    "scrolled": false
   },
   "outputs": [
    {
     "data": {
      "text/html": [
       "<div>\n",
       "<style scoped>\n",
       "    .dataframe tbody tr th:only-of-type {\n",
       "        vertical-align: middle;\n",
       "    }\n",
       "\n",
       "    .dataframe tbody tr th {\n",
       "        vertical-align: top;\n",
       "    }\n",
       "\n",
       "    .dataframe thead th {\n",
       "        text-align: right;\n",
       "    }\n",
       "</style>\n",
       "<table border=\"1\" class=\"dataframe\">\n",
       "  <thead>\n",
       "    <tr style=\"text-align: right;\">\n",
       "      <th></th>\n",
       "      <th>Id</th>\n",
       "      <th>ProductId</th>\n",
       "      <th>UserId</th>\n",
       "      <th>ProfileName</th>\n",
       "      <th>HelpfulnessNumerator</th>\n",
       "      <th>HelpfulnessDenominator</th>\n",
       "      <th>Score</th>\n",
       "      <th>Time</th>\n",
       "      <th>Summary</th>\n",
       "      <th>Text</th>\n",
       "    </tr>\n",
       "  </thead>\n",
       "  <tbody>\n",
       "    <tr>\n",
       "      <th>0</th>\n",
       "      <td>78445</td>\n",
       "      <td>B000HDL1RQ</td>\n",
       "      <td>AR5J8UI46CURR</td>\n",
       "      <td>Geetha Krishnan</td>\n",
       "      <td>2</td>\n",
       "      <td>2</td>\n",
       "      <td>5</td>\n",
       "      <td>1199577600</td>\n",
       "      <td>LOACKER QUADRATINI VANILLA WAFERS</td>\n",
       "      <td>DELICIOUS WAFERS. I FIND THAT EUROPEAN WAFERS ...</td>\n",
       "    </tr>\n",
       "    <tr>\n",
       "      <th>1</th>\n",
       "      <td>138317</td>\n",
       "      <td>B000HDOPYC</td>\n",
       "      <td>AR5J8UI46CURR</td>\n",
       "      <td>Geetha Krishnan</td>\n",
       "      <td>2</td>\n",
       "      <td>2</td>\n",
       "      <td>5</td>\n",
       "      <td>1199577600</td>\n",
       "      <td>LOACKER QUADRATINI VANILLA WAFERS</td>\n",
       "      <td>DELICIOUS WAFERS. I FIND THAT EUROPEAN WAFERS ...</td>\n",
       "    </tr>\n",
       "    <tr>\n",
       "      <th>2</th>\n",
       "      <td>138277</td>\n",
       "      <td>B000HDOPYM</td>\n",
       "      <td>AR5J8UI46CURR</td>\n",
       "      <td>Geetha Krishnan</td>\n",
       "      <td>2</td>\n",
       "      <td>2</td>\n",
       "      <td>5</td>\n",
       "      <td>1199577600</td>\n",
       "      <td>LOACKER QUADRATINI VANILLA WAFERS</td>\n",
       "      <td>DELICIOUS WAFERS. I FIND THAT EUROPEAN WAFERS ...</td>\n",
       "    </tr>\n",
       "    <tr>\n",
       "      <th>3</th>\n",
       "      <td>73791</td>\n",
       "      <td>B000HDOPZG</td>\n",
       "      <td>AR5J8UI46CURR</td>\n",
       "      <td>Geetha Krishnan</td>\n",
       "      <td>2</td>\n",
       "      <td>2</td>\n",
       "      <td>5</td>\n",
       "      <td>1199577600</td>\n",
       "      <td>LOACKER QUADRATINI VANILLA WAFERS</td>\n",
       "      <td>DELICIOUS WAFERS. I FIND THAT EUROPEAN WAFERS ...</td>\n",
       "    </tr>\n",
       "    <tr>\n",
       "      <th>4</th>\n",
       "      <td>155049</td>\n",
       "      <td>B000PAQ75C</td>\n",
       "      <td>AR5J8UI46CURR</td>\n",
       "      <td>Geetha Krishnan</td>\n",
       "      <td>2</td>\n",
       "      <td>2</td>\n",
       "      <td>5</td>\n",
       "      <td>1199577600</td>\n",
       "      <td>LOACKER QUADRATINI VANILLA WAFERS</td>\n",
       "      <td>DELICIOUS WAFERS. I FIND THAT EUROPEAN WAFERS ...</td>\n",
       "    </tr>\n",
       "  </tbody>\n",
       "</table>\n",
       "</div>"
      ],
      "text/plain": [
       "       Id   ProductId         UserId      ProfileName  HelpfulnessNumerator  \\\n",
       "0   78445  B000HDL1RQ  AR5J8UI46CURR  Geetha Krishnan                     2   \n",
       "1  138317  B000HDOPYC  AR5J8UI46CURR  Geetha Krishnan                     2   \n",
       "2  138277  B000HDOPYM  AR5J8UI46CURR  Geetha Krishnan                     2   \n",
       "3   73791  B000HDOPZG  AR5J8UI46CURR  Geetha Krishnan                     2   \n",
       "4  155049  B000PAQ75C  AR5J8UI46CURR  Geetha Krishnan                     2   \n",
       "\n",
       "   HelpfulnessDenominator  Score        Time  \\\n",
       "0                       2      5  1199577600   \n",
       "1                       2      5  1199577600   \n",
       "2                       2      5  1199577600   \n",
       "3                       2      5  1199577600   \n",
       "4                       2      5  1199577600   \n",
       "\n",
       "                             Summary  \\\n",
       "0  LOACKER QUADRATINI VANILLA WAFERS   \n",
       "1  LOACKER QUADRATINI VANILLA WAFERS   \n",
       "2  LOACKER QUADRATINI VANILLA WAFERS   \n",
       "3  LOACKER QUADRATINI VANILLA WAFERS   \n",
       "4  LOACKER QUADRATINI VANILLA WAFERS   \n",
       "\n",
       "                                                Text  \n",
       "0  DELICIOUS WAFERS. I FIND THAT EUROPEAN WAFERS ...  \n",
       "1  DELICIOUS WAFERS. I FIND THAT EUROPEAN WAFERS ...  \n",
       "2  DELICIOUS WAFERS. I FIND THAT EUROPEAN WAFERS ...  \n",
       "3  DELICIOUS WAFERS. I FIND THAT EUROPEAN WAFERS ...  \n",
       "4  DELICIOUS WAFERS. I FIND THAT EUROPEAN WAFERS ...  "
      ]
     },
     "execution_count": 7,
     "metadata": {},
     "output_type": "execute_result"
    }
   ],
   "source": [
    "display= pd.read_sql_query(\"\"\"\n",
    "SELECT *\n",
    "FROM Reviews\n",
    "WHERE Score != 3 AND UserId=\"AR5J8UI46CURR\"\n",
    "ORDER BY ProductID\n",
    "\"\"\", con)\n",
    "display.head()"
   ]
  },
  {
   "cell_type": "markdown",
   "metadata": {
    "colab_type": "text",
    "id": "cKrGPQEfDYJW"
   },
   "source": [
    "As it can be seen above that same user has multiple reviews with same values for HelpfulnessNumerator, HelpfulnessDenominator, Score, Time, Summary and Text and on doing analysis it was found that <br>\n",
    "<br> \n",
    "ProductId=B000HDOPZG was Loacker Quadratini Vanilla Wafer Cookies, 8.82-Ounce Packages (Pack of 8)<br>\n",
    "<br> \n",
    "ProductId=B000HDL1RQ was Loacker Quadratini Lemon Wafer Cookies, 8.82-Ounce Packages (Pack of 8) and so on<br>\n",
    "\n",
    "It was inferred after analysis that reviews with same parameters other than ProductId belonged to the same product just having different flavour or quantity. Hence in order to reduce redundancy it was decided to eliminate the rows having same parameters.<br>\n",
    "\n",
    "The method used for the same was that we first sort the data according to ProductId and then just keep the first similar product review and delelte the others. for eg. in the above just the review for ProductId=B000HDL1RQ remains. This method ensures that there is only one representative for each product and deduplication without sorting would lead to possibility of different representatives still existing for the same product."
   ]
  },
  {
   "cell_type": "code",
   "execution_count": 116,
   "metadata": {
    "colab": {},
    "colab_type": "code",
    "id": "eQWrz1nFDYJX"
   },
   "outputs": [],
   "source": [
    "#Sorting data according to ProductId in ascending order\n",
    "sorted_data=filtered_data.sort_values('ProductId', axis=0, ascending=True, inplace=False, kind='quicksort', na_position='last')"
   ]
  },
  {
   "cell_type": "code",
   "execution_count": 117,
   "metadata": {
    "colab": {},
    "colab_type": "code",
    "id": "4CS7fUdLDYJd",
    "outputId": "6fa1310c-c733-4bb5-9b0a-cbb72b05e086"
   },
   "outputs": [
    {
     "data": {
      "text/plain": [
       "(364173, 10)"
      ]
     },
     "execution_count": 117,
     "metadata": {},
     "output_type": "execute_result"
    }
   ],
   "source": [
    "#Deduplication of entries\n",
    "final=sorted_data.drop_duplicates(subset={\"UserId\",\"ProfileName\",\"Time\",\"Text\"}, keep='first', inplace=False)\n",
    "final.shape"
   ]
  },
  {
   "cell_type": "code",
   "execution_count": 118,
   "metadata": {
    "colab": {},
    "colab_type": "code",
    "id": "Hcc_-CJMDYJk",
    "outputId": "8490fe52-8d00-4196-d0f4-5718b54f10e8"
   },
   "outputs": [
    {
     "data": {
      "text/plain": [
       "69.25890143662969"
      ]
     },
     "execution_count": 118,
     "metadata": {},
     "output_type": "execute_result"
    }
   ],
   "source": [
    "#Checking to see how much % of data still remains\n",
    "(final['Id'].size*1.0)/(filtered_data['Id'].size*1.0)*100"
   ]
  },
  {
   "cell_type": "markdown",
   "metadata": {
    "colab_type": "text",
    "id": "engwR6VNDYJq"
   },
   "source": [
    "<b>Observation:-</b> It was also seen that in two rows given below the value of HelpfulnessNumerator is greater than HelpfulnessDenominator which is not practically possible hence these two rows too are removed from calcualtions"
   ]
  },
  {
   "cell_type": "code",
   "execution_count": 11,
   "metadata": {
    "colab": {},
    "colab_type": "code",
    "id": "hjN7-OL_DYJt",
    "outputId": "5e4c5f88-4f27-42ca-e378-04cbc8e8d8d9"
   },
   "outputs": [
    {
     "data": {
      "text/html": [
       "<div>\n",
       "<style scoped>\n",
       "    .dataframe tbody tr th:only-of-type {\n",
       "        vertical-align: middle;\n",
       "    }\n",
       "\n",
       "    .dataframe tbody tr th {\n",
       "        vertical-align: top;\n",
       "    }\n",
       "\n",
       "    .dataframe thead th {\n",
       "        text-align: right;\n",
       "    }\n",
       "</style>\n",
       "<table border=\"1\" class=\"dataframe\">\n",
       "  <thead>\n",
       "    <tr style=\"text-align: right;\">\n",
       "      <th></th>\n",
       "      <th>Id</th>\n",
       "      <th>ProductId</th>\n",
       "      <th>UserId</th>\n",
       "      <th>ProfileName</th>\n",
       "      <th>HelpfulnessNumerator</th>\n",
       "      <th>HelpfulnessDenominator</th>\n",
       "      <th>Score</th>\n",
       "      <th>Time</th>\n",
       "      <th>Summary</th>\n",
       "      <th>Text</th>\n",
       "    </tr>\n",
       "  </thead>\n",
       "  <tbody>\n",
       "    <tr>\n",
       "      <th>0</th>\n",
       "      <td>64422</td>\n",
       "      <td>B000MIDROQ</td>\n",
       "      <td>A161DK06JJMCYF</td>\n",
       "      <td>J. E. Stephens \"Jeanne\"</td>\n",
       "      <td>3</td>\n",
       "      <td>1</td>\n",
       "      <td>5</td>\n",
       "      <td>1224892800</td>\n",
       "      <td>Bought This for My Son at College</td>\n",
       "      <td>My son loves spaghetti so I didn't hesitate or...</td>\n",
       "    </tr>\n",
       "    <tr>\n",
       "      <th>1</th>\n",
       "      <td>44737</td>\n",
       "      <td>B001EQ55RW</td>\n",
       "      <td>A2V0I904FH7ABY</td>\n",
       "      <td>Ram</td>\n",
       "      <td>3</td>\n",
       "      <td>2</td>\n",
       "      <td>4</td>\n",
       "      <td>1212883200</td>\n",
       "      <td>Pure cocoa taste with crunchy almonds inside</td>\n",
       "      <td>It was almost a 'love at first bite' - the per...</td>\n",
       "    </tr>\n",
       "  </tbody>\n",
       "</table>\n",
       "</div>"
      ],
      "text/plain": [
       "      Id   ProductId          UserId              ProfileName  \\\n",
       "0  64422  B000MIDROQ  A161DK06JJMCYF  J. E. Stephens \"Jeanne\"   \n",
       "1  44737  B001EQ55RW  A2V0I904FH7ABY                      Ram   \n",
       "\n",
       "   HelpfulnessNumerator  HelpfulnessDenominator  Score        Time  \\\n",
       "0                     3                       1      5  1224892800   \n",
       "1                     3                       2      4  1212883200   \n",
       "\n",
       "                                        Summary  \\\n",
       "0             Bought This for My Son at College   \n",
       "1  Pure cocoa taste with crunchy almonds inside   \n",
       "\n",
       "                                                Text  \n",
       "0  My son loves spaghetti so I didn't hesitate or...  \n",
       "1  It was almost a 'love at first bite' - the per...  "
      ]
     },
     "execution_count": 11,
     "metadata": {},
     "output_type": "execute_result"
    }
   ],
   "source": [
    "display= pd.read_sql_query(\"\"\"\n",
    "SELECT *\n",
    "FROM Reviews\n",
    "WHERE Score != 3 AND Id=44737 OR Id=64422\n",
    "ORDER BY ProductID\n",
    "\"\"\", con)\n",
    "\n",
    "display.head()"
   ]
  },
  {
   "cell_type": "code",
   "execution_count": 6,
   "metadata": {
    "colab": {},
    "colab_type": "code",
    "id": "Ezix6kJ_DYJ3"
   },
   "outputs": [],
   "source": [
    "final=final[final.HelpfulnessNumerator<=final.HelpfulnessDenominator]"
   ]
  },
  {
   "cell_type": "code",
   "execution_count": 7,
   "metadata": {
    "colab": {},
    "colab_type": "code",
    "id": "yWsVhvArDYJ9",
    "outputId": "0fd8ea32-ce27-4232-a7f1-880eb06ca956"
   },
   "outputs": [
    {
     "name": "stdout",
     "output_type": "stream",
     "text": [
      "(364171, 10)\n"
     ]
    },
    {
     "data": {
      "text/plain": [
       "1    307061\n",
       "0     57110\n",
       "Name: Score, dtype: int64"
      ]
     },
     "execution_count": 7,
     "metadata": {},
     "output_type": "execute_result"
    }
   ],
   "source": [
    "#Before starting the next phase of preprocessing lets see the number of entries left\n",
    "print(final.shape)\n",
    "\n",
    "#How many positive and negative reviews are present in our dataset?\n",
    "final['Score'].value_counts()"
   ]
  },
  {
   "cell_type": "markdown",
   "metadata": {
    "colab_type": "text",
    "id": "AoLxCQ-VDYKI"
   },
   "source": [
    "#  [3] Preprocessing"
   ]
  },
  {
   "cell_type": "markdown",
   "metadata": {
    "colab_type": "text",
    "id": "P7Zq_ToqDYKJ"
   },
   "source": [
    "## [3.1].  Preprocessing Review Text\n",
    "\n",
    "Now that we have finished deduplication our data requires some preprocessing before we go on further with analysis and making the prediction model.\n",
    "\n",
    "Hence in the Preprocessing phase we do the following in the order below:-\n",
    "\n",
    "1. Begin by removing the html tags\n",
    "2. Remove any punctuations or limited set of special characters like , or . or # etc.\n",
    "3. Check if the word is made up of english letters and is not alpha-numeric\n",
    "4. Check to see if the length of the word is greater than 2 (as it was researched that there is no adjective in 2-letters)\n",
    "5. Convert the word to lowercase\n",
    "6. Remove Stopwords\n",
    "7. Finally Snowball Stemming the word (it was obsereved to be better than Porter Stemming)<br>\n",
    "\n",
    "After which we collect the words used to describe positive and negative reviews"
   ]
  },
  {
   "cell_type": "code",
   "execution_count": 119,
   "metadata": {
    "colab": {},
    "colab_type": "code",
    "id": "3jw5g5yEDYKL",
    "outputId": "06d7bd61-438f-4319-a9f7-ecb2312f3dec"
   },
   "outputs": [
    {
     "name": "stdout",
     "output_type": "stream",
     "text": [
      "this witty little book makes my son laugh at loud. i recite it in the car as we're driving along and he always can sing the refrain. he's learned about whales, India, drooping roses:  i love all the new words this book  introduces and the silliness of it all.  this is a classic book i am  willing to bet my son will STILL be able to recite from memory when he is  in college\n",
      "==================================================\n",
      "I was really looking forward to these pods based on the reviews.  Starbucks is good, but I prefer bolder taste.... imagine my surprise when I ordered 2 boxes - both were expired! One expired back in 2005 for gosh sakes.  I admit that Amazon agreed to credit me for cost plus part of shipping, but geez, 2 years expired!!!  I'm hoping to find local San Diego area shoppe that carries pods so that I can try something different than starbucks.\n",
      "==================================================\n",
      "Great ingredients although, chicken should have been 1st rather than chicken broth, the only thing I do not think belongs in it is Canola oil. Canola or rapeseed is not someting a dog would ever find in nature and if it did find rapeseed in nature and eat it, it would poison them. Today's Food industries have convinced the masses that Canola oil is a safe and even better oil than olive or virgin coconut, facts though say otherwise. Until the late 70's it was poisonous until they figured out a way to fix that. I still like it but it could be better.\n",
      "==================================================\n",
      "Can't do sugar.  Have tried scores of SF Syrups.  NONE of them can touch the excellence of this product.<br /><br />Thick, delicious.  Perfect.  3 ingredients: Water, Maltitol, Natural Maple Flavor.  PERIOD.  No chemicals.  No garbage.<br /><br />Have numerous friends & family members hooked on this stuff.  My husband & son, who do NOT like \"sugar free\" prefer this over major label regular syrup.<br /><br />I use this as my SWEETENER in baking: cheesecakes, white brownies, muffins, pumpkin pies, etc... Unbelievably delicious...<br /><br />Can you tell I like it? :)\n",
      "==================================================\n"
     ]
    }
   ],
   "source": [
    "# printing some random reviews\n",
    "sent_0 = final['Text'].values[0]\n",
    "print(sent_0)\n",
    "print(\"=\"*50)\n",
    "\n",
    "sent_1000 = final['Text'].values[1000]\n",
    "print(sent_1000)\n",
    "print(\"=\"*50)\n",
    "\n",
    "sent_1500 = final['Text'].values[1500]\n",
    "print(sent_1500)\n",
    "print(\"=\"*50)\n",
    "\n",
    "sent_4900 = final['Text'].values[4900]\n",
    "print(sent_4900)\n",
    "print(\"=\"*50)"
   ]
  },
  {
   "cell_type": "code",
   "execution_count": 120,
   "metadata": {
    "colab": {},
    "colab_type": "code",
    "id": "WloiOvL3DYKT",
    "outputId": "0a0a8f4b-1999-467d-ea4e-06c5280d3c17"
   },
   "outputs": [
    {
     "name": "stdout",
     "output_type": "stream",
     "text": [
      "this witty little book makes my son laugh at loud. i recite it in the car as we're driving along and he always can sing the refrain. he's learned about whales, India, drooping roses:  i love all the new words this book  introduces and the silliness of it all.  this is a classic book i am  willing to bet my son will STILL be able to recite from memory when he is  in college\n"
     ]
    }
   ],
   "source": [
    "# remove urls from text python: https://stackoverflow.com/a/40823105/4084039\n",
    "sent_0 = re.sub(r\"http\\S+\", \"\", sent_0)\n",
    "sent_1000 = re.sub(r\"http\\S+\", \"\", sent_1000)\n",
    "sent_150 = re.sub(r\"http\\S+\", \"\", sent_1500)\n",
    "sent_4900 = re.sub(r\"http\\S+\", \"\", sent_4900)\n",
    "\n",
    "print(sent_0)"
   ]
  },
  {
   "cell_type": "code",
   "execution_count": 121,
   "metadata": {
    "colab": {},
    "colab_type": "code",
    "id": "SzCCi9tPDYKf",
    "outputId": "d01ec7e4-bcab-4639-e6d9-7ddbe80aaed1"
   },
   "outputs": [
    {
     "name": "stdout",
     "output_type": "stream",
     "text": [
      "this witty little book makes my son laugh at loud. i recite it in the car as we're driving along and he always can sing the refrain. he's learned about whales, India, drooping roses:  i love all the new words this book  introduces and the silliness of it all.  this is a classic book i am  willing to bet my son will STILL be able to recite from memory when he is  in college\n",
      "==================================================\n",
      "I was really looking forward to these pods based on the reviews.  Starbucks is good, but I prefer bolder taste.... imagine my surprise when I ordered 2 boxes - both were expired! One expired back in 2005 for gosh sakes.  I admit that Amazon agreed to credit me for cost plus part of shipping, but geez, 2 years expired!!!  I'm hoping to find local San Diego area shoppe that carries pods so that I can try something different than starbucks.\n",
      "==================================================\n",
      "Great ingredients although, chicken should have been 1st rather than chicken broth, the only thing I do not think belongs in it is Canola oil. Canola or rapeseed is not someting a dog would ever find in nature and if it did find rapeseed in nature and eat it, it would poison them. Today's Food industries have convinced the masses that Canola oil is a safe and even better oil than olive or virgin coconut, facts though say otherwise. Until the late 70's it was poisonous until they figured out a way to fix that. I still like it but it could be better.\n",
      "==================================================\n",
      "Can't do sugar.  Have tried scores of SF Syrups.  NONE of them can touch the excellence of this product.Thick, delicious.  Perfect.  3 ingredients: Water, Maltitol, Natural Maple Flavor.  PERIOD.  No chemicals.  No garbage.Have numerous friends & family members hooked on this stuff.  My husband & son, who do NOT like \"sugar free\" prefer this over major label regular syrup.I use this as my SWEETENER in baking: cheesecakes, white brownies, muffins, pumpkin pies, etc... Unbelievably delicious...Can you tell I like it? :)\n"
     ]
    }
   ],
   "source": [
    "# https://stackoverflow.com/questions/16206380/python-beautifulsoup-how-to-remove-all-tags-from-an-element\n",
    "from bs4 import BeautifulSoup\n",
    "\n",
    "soup = BeautifulSoup(sent_0, 'lxml')\n",
    "text = soup.get_text()\n",
    "print(text)\n",
    "print(\"=\"*50)\n",
    "\n",
    "soup = BeautifulSoup(sent_1000, 'lxml')\n",
    "text = soup.get_text()\n",
    "print(text)\n",
    "print(\"=\"*50)\n",
    "\n",
    "soup = BeautifulSoup(sent_1500, 'lxml')\n",
    "text = soup.get_text()\n",
    "print(text)\n",
    "print(\"=\"*50)\n",
    "\n",
    "soup = BeautifulSoup(sent_4900, 'lxml')\n",
    "text = soup.get_text()\n",
    "print(text)"
   ]
  },
  {
   "cell_type": "code",
   "execution_count": 122,
   "metadata": {
    "colab": {},
    "colab_type": "code",
    "id": "vQ2mdt2jDYKo"
   },
   "outputs": [],
   "source": [
    "# https://stackoverflow.com/a/47091490/4084039\n",
    "import re\n",
    "\n",
    "def decontracted(phrase):\n",
    "    # specific\n",
    "    phrase = re.sub(r\"won't\", \"will not\", phrase)\n",
    "    phrase = re.sub(r\"can\\'t\", \"can not\", phrase)\n",
    "\n",
    "    # general\n",
    "    phrase = re.sub(r\"n\\'t\", \" not\", phrase)\n",
    "    phrase = re.sub(r\"\\'re\", \" are\", phrase)\n",
    "    phrase = re.sub(r\"\\'s\", \" is\", phrase)\n",
    "    phrase = re.sub(r\"\\'d\", \" would\", phrase)\n",
    "    phrase = re.sub(r\"\\'ll\", \" will\", phrase)\n",
    "    phrase = re.sub(r\"\\'t\", \" not\", phrase)\n",
    "    phrase = re.sub(r\"\\'ve\", \" have\", phrase)\n",
    "    phrase = re.sub(r\"\\'m\", \" am\", phrase)\n",
    "    return phrase"
   ]
  },
  {
   "cell_type": "code",
   "execution_count": 123,
   "metadata": {
    "colab": {},
    "colab_type": "code",
    "id": "GD5_8P5jDYKr",
    "outputId": "84eccfc3-59b4-45cc-805d-6397baa625fe"
   },
   "outputs": [
    {
     "name": "stdout",
     "output_type": "stream",
     "text": [
      "Great ingredients although, chicken should have been 1st rather than chicken broth, the only thing I do not think belongs in it is Canola oil. Canola or rapeseed is not someting a dog would ever find in nature and if it did find rapeseed in nature and eat it, it would poison them. Today is Food industries have convinced the masses that Canola oil is a safe and even better oil than olive or virgin coconut, facts though say otherwise. Until the late 70 is it was poisonous until they figured out a way to fix that. I still like it but it could be better.\n",
      "==================================================\n"
     ]
    }
   ],
   "source": [
    "sent_1500 = decontracted(sent_1500)\n",
    "print(sent_1500)\n",
    "print(\"=\"*50)"
   ]
  },
  {
   "cell_type": "code",
   "execution_count": 124,
   "metadata": {
    "colab": {},
    "colab_type": "code",
    "id": "qTHM_mDnDYKx",
    "outputId": "997e9b00-4c34-44dc-ac7e-8e401a52f083"
   },
   "outputs": [
    {
     "name": "stdout",
     "output_type": "stream",
     "text": [
      "this witty little book makes my son laugh at loud. i recite it in the car as we're driving along and he always can sing the refrain. he's learned about whales, India, drooping roses:  i love all the new words this book  introduces and the silliness of it all.  this is a classic book i am  willing to bet my son will STILL be able to recite from memory when he is  in college\n"
     ]
    }
   ],
   "source": [
    "#remove words with numbers python: https://stackoverflow.com/a/18082370/4084039\n",
    "sent_0 = re.sub(\"\\S*\\d\\S*\", \"\", sent_0).strip()\n",
    "print(sent_0)"
   ]
  },
  {
   "cell_type": "code",
   "execution_count": 125,
   "metadata": {
    "colab": {},
    "colab_type": "code",
    "id": "pXhZUMDzDYK6",
    "outputId": "3a80315a-1042-480b-fdfb-01c360a99823"
   },
   "outputs": [
    {
     "name": "stdout",
     "output_type": "stream",
     "text": [
      "Great ingredients although chicken should have been 1st rather than chicken broth the only thing I do not think belongs in it is Canola oil Canola or rapeseed is not someting a dog would ever find in nature and if it did find rapeseed in nature and eat it it would poison them Today is Food industries have convinced the masses that Canola oil is a safe and even better oil than olive or virgin coconut facts though say otherwise Until the late 70 is it was poisonous until they figured out a way to fix that I still like it but it could be better \n"
     ]
    }
   ],
   "source": [
    "#remove spacial character: https://stackoverflow.com/a/5843547/4084039\n",
    "sent_1500 = re.sub('[^A-Za-z0-9]+', ' ', sent_1500)\n",
    "print(sent_1500)"
   ]
  },
  {
   "cell_type": "code",
   "execution_count": 126,
   "metadata": {
    "colab": {},
    "colab_type": "code",
    "id": "vZJNhKvKDYLA"
   },
   "outputs": [],
   "source": [
    "# https://gist.github.com/sebleier/554280\n",
    "# we are removing the words from the stop words list: 'no', 'nor', 'not'\n",
    "# <br /><br /> ==> after the above steps, we are getting \"br br\"\n",
    "# we are including them into stop words list\n",
    "# instead of <br /> if we have <br/> these tags would have revmoved in the 1st step\n",
    "\n",
    "stopwords= set(['br', 'the', 'i', 'me', 'my', 'myself', 'we', 'our', 'ours', 'ourselves', 'you', \"you're\", \"you've\",\\\n",
    "            \"you'll\", \"you'd\", 'your', 'yours', 'yourself', 'yourselves', 'he', 'him', 'his', 'himself', \\\n",
    "            'she', \"she's\", 'her', 'hers', 'herself', 'it', \"it's\", 'its', 'itself', 'they', 'them', 'their',\\\n",
    "            'theirs', 'themselves', 'what', 'which', 'who', 'whom', 'this', 'that', \"that'll\", 'these', 'those', \\\n",
    "            'am', 'is', 'are', 'was', 'were', 'be', 'been', 'being', 'have', 'has', 'had', 'having', 'do', 'does', \\\n",
    "            'did', 'doing', 'a', 'an', 'the', 'and', 'but', 'if', 'or', 'because', 'as', 'until', 'while', 'of', \\\n",
    "            'at', 'by', 'for', 'with', 'about', 'against', 'between', 'into', 'through', 'during', 'before', 'after',\\\n",
    "            'above', 'below', 'to', 'from', 'up', 'down', 'in', 'out', 'on', 'off', 'over', 'under', 'again', 'further',\\\n",
    "            'then', 'once', 'here', 'there', 'when', 'where', 'why', 'how', 'all', 'any', 'both', 'each', 'few', 'more',\\\n",
    "            'most', 'other', 'some', 'such', 'only', 'own', 'same', 'so', 'than', 'too', 'very', \\\n",
    "            's', 't', 'can', 'will', 'just', 'don', \"don't\", 'should', \"should've\", 'now', 'd', 'll', 'm', 'o', 're', \\\n",
    "            've', 'y', 'ain', 'aren', \"aren't\", 'couldn', \"couldn't\", 'didn', \"didn't\", 'doesn', \"doesn't\", 'hadn',\\\n",
    "            \"hadn't\", 'hasn', \"hasn't\", 'haven', \"haven't\", 'isn', \"isn't\", 'ma', 'mightn', \"mightn't\", 'mustn',\\\n",
    "            \"mustn't\", 'needn', \"needn't\", 'shan', \"shan't\", 'shouldn', \"shouldn't\", 'wasn', \"wasn't\", 'weren', \"weren't\", \\\n",
    "            'won', \"won't\", 'wouldn', \"wouldn't\"])"
   ]
  },
  {
   "cell_type": "code",
   "execution_count": 127,
   "metadata": {
    "colab": {},
    "colab_type": "code",
    "id": "1Rd8zIc8DYLF",
    "outputId": "33fd610b-9479-4f0e-bfd1-10e308b4b382"
   },
   "outputs": [
    {
     "name": "stderr",
     "output_type": "stream",
     "text": [
      "100%|████████████████████████████████| 364173/364173 [04:02<00:00, 1503.30it/s]\n"
     ]
    }
   ],
   "source": [
    "# Combining all the above stundents \n",
    "from tqdm import tqdm\n",
    "preprocessed_reviews = []\n",
    "# tqdm is for printing the status bar\n",
    "for sentance in tqdm(final['Text'].values):\n",
    "    sentance = re.sub(r\"http\\S+\", \"\", sentance)\n",
    "    sentance = BeautifulSoup(sentance, 'lxml').get_text()\n",
    "    sentance = decontracted(sentance)\n",
    "    sentance = re.sub(\"\\S*\\d\\S*\", \"\", sentance).strip()\n",
    "    sentance = re.sub('[^A-Za-z]+', ' ', sentance)\n",
    "    # https://gist.github.com/sebleier/554280\n",
    "    sentance = ' '.join(e.lower() for e in sentance.split() if e.lower() not in stopwords)\n",
    "    preprocessed_reviews.append(sentance.strip())"
   ]
  },
  {
   "cell_type": "code",
   "execution_count": 128,
   "metadata": {
    "colab": {},
    "colab_type": "code",
    "id": "YBWzfi2NDYLL",
    "outputId": "479570d6-066b-4f7e-afe4-f6f21f19a95b"
   },
   "outputs": [
    {
     "data": {
      "text/plain": [
       "'great ingredients although chicken rather chicken broth thing not think belongs canola oil canola rapeseed not someting dog would ever find nature find rapeseed nature eat would poison today food industries convinced masses canola oil safe even better oil olive virgin coconut facts though say otherwise late poisonous figured way fix still like could better'"
      ]
     },
     "execution_count": 128,
     "metadata": {},
     "output_type": "execute_result"
    }
   ],
   "source": [
    "preprocessed_reviews[1500]"
   ]
  },
  {
   "cell_type": "markdown",
   "metadata": {
    "colab_type": "text",
    "id": "vSmZvNNZDYLi"
   },
   "source": [
    "# [4] Featurization"
   ]
  },
  {
   "cell_type": "markdown",
   "metadata": {
    "colab_type": "text",
    "id": "ysQgMV4SDYMq"
   },
   "source": [
    "<ol>\n",
    "    <li><strong>Apply Knn(brute force version) on these feature sets</strong>\n",
    "        <ul>\n",
    "            <li><font color='red'>SET 1:</font>Review text, preprocessed one converted into vectors using (BOW)</li>\n",
    "            <li><font color='red'>SET 2:</font>Review text, preprocessed one converted into vectors using (TFIDF)</li>\n",
    "            <li><font color='red'>SET 3:</font>Review text, preprocessed one converted into vectors using (AVG W2v)</li>\n",
    "            <li><font color='red'>SET 4:</font>Review text, preprocessed one converted into vectors using (TFIDF W2v)</li>\n",
    "        </ul>\n",
    "    </li>\n",
    "    <br>\n",
    "    <li><strong>Apply Knn(kd tree version) on these feature sets</strong>\n",
    "        <br><font color='red'>NOTE: </font>sklearn implementation of kd-tree accepts only dense matrices, you need to convert the sparse matrices of CountVectorizer/TfidfVectorizer into dense matices. You can convert sparse matrices to dense using .toarray() attribute. For more information please visit this <a href='https://docs.scipy.org/doc/scipy-0.18.1/reference/generated/scipy.sparse.csr_matrix.toarray.html'>link</a>\n",
    "        <ul>\n",
    "            <li><font color='red'>SET 5:</font>Review text, preprocessed one converted into vectors using (BOW) but with restriction on maximum features generated.\n",
    "            <pre>\n",
    "            count_vect = CountVectorizer(min_df=10, max_features=500) \n",
    "            count_vect.fit(preprocessed_reviews)\n",
    "            </pre>\n",
    "            </li>\n",
    "            <li><font color='red'>SET 6:</font>Review text, preprocessed one converted into vectors using (TFIDF) but with restriction on maximum features generated.\n",
    "            <pre>\n",
    "                tf_idf_vect = TfidfVectorizer(min_df=10, max_features=500)\n",
    "                tf_idf_vect.fit(preprocessed_reviews)\n",
    "            </pre>\n",
    "            </li>\n",
    "            <li><font color='red'>SET 3:</font>Review text, preprocessed one converted into vectors using (AVG W2v)</li>\n",
    "            <li><font color='red'>SET 4:</font>Review text, preprocessed one converted into vectors using (TFIDF W2v)</li>\n",
    "        </ul>\n",
    "    </li>\n",
    "    <br>\n",
    "    <li><strong>The hyper paramter tuning(find best K)</strong>\n",
    "        <ul>\n",
    "    <li>Find the best hyper parameter which will give the maximum <a href='https://www.appliedaicourse.com/course/applied-ai-course-online/lessons/receiver-operating-characteristic-curve-roc-curve-and-auc-1/'>AUC</a> value</li>\n",
    "    <li>Find the best hyper paramter using k-fold cross validation or simple cross validation data</li>\n",
    "    <li>Use gridsearch cv or randomsearch cv or you can also write your own for loops to do this task of hyperparameter tuning</li>\n",
    "        </ul>\n",
    "    </li>\n",
    "    <br>\n",
    "    <li>\n",
    "    <strong>Representation of results</strong>\n",
    "        <ul>\n",
    "    <li>You need to plot the performance of model both on train data and cross validation data for each hyper parameter, like shown in the figure\n",
    "    <img src='train_cv_auc.JPG' width=300px></li>\n",
    "    <li>Once after you found the best hyper parameter, you need to train your model with it, and find the AUC on test data and plot the ROC curve on both train and test.\n",
    "    <img src='train_test_auc.JPG' width=300px></li>\n",
    "    <li>Along with plotting ROC curve, you need to print the <a href='https://www.appliedaicourse.com/course/applied-ai-course-online/lessons/confusion-matrix-tpr-fpr-fnr-tnr-1/'>confusion matrix</a> with predicted and original labels of test data points\n",
    "    <img src='confusion_matrix.png' width=300px></li>\n",
    "        </ul>\n",
    "    </li>\n",
    "    <br>\n",
    "    <li><strong>Conclusion</strong>\n",
    "        <ul>\n",
    "    <li>You need to summarize the results at the end of the notebook, summarize it in the table format.\n",
    "    </li>\n",
    "        </ul>\n",
    "</ol>"
   ]
  },
  {
   "cell_type": "markdown",
   "metadata": {
    "colab_type": "text",
    "id": "juYtRIKQDYMr"
   },
   "source": [
    "<h4><font color='red'>Note: Data Leakage</font></h4>\n",
    "\n",
    "1. There will be an issue of data-leakage if you vectorize the entire data and then split it into train/cv/test.\n",
    "2. To avoid the issue of data-leakag, make sure to split your data first and then vectorize it. \n",
    "3. While vectorizing your data, apply the method fit_transform() on you train data, and apply the method transform() on cv/test data.\n",
    "4. For more details please go through this <a href='https://soundcloud.com/applied-ai-course/leakage-bow-and-tfidf'>link.</a>"
   ]
  },
  {
   "cell_type": "markdown",
   "metadata": {
    "colab_type": "text",
    "id": "WEbTAOWHDYMu"
   },
   "source": [
    "## [5.1] Applying KNN brute force"
   ]
  },
  {
   "cell_type": "markdown",
   "metadata": {},
   "source": [
    "### Data Sampling:"
   ]
  },
  {
   "cell_type": "code",
   "execution_count": 129,
   "metadata": {},
   "outputs": [],
   "source": [
    "final['cleaned_text'] = preprocessed_reviews"
   ]
  },
  {
   "cell_type": "code",
   "execution_count": 130,
   "metadata": {},
   "outputs": [
    {
     "name": "stdout",
     "output_type": "stream",
     "text": [
      "(10000, 11)\n"
     ]
    }
   ],
   "source": [
    "# When I selected 20K points, Memory Error exception raised when I applied KNN Brute Force on Bow,so selecting 10k points\n",
    "positive_data = final[final['Score']==1].sample(n=5000)\n",
    "negative_data = final[final['Score']==0].sample(n=5000)\n",
    "final_data = pd.concat([positive_data,negative_data])\n",
    "print(final_data.shape)"
   ]
  },
  {
   "cell_type": "code",
   "execution_count": 131,
   "metadata": {},
   "outputs": [
    {
     "name": "stdout",
     "output_type": "stream",
     "text": [
      "X: (10000,) <class 'numpy.ndarray'>\n",
      "Y: (10000,) <class 'numpy.ndarray'>\n"
     ]
    }
   ],
   "source": [
    "#Inputdata:Text,Class_Label:Score\n",
    "X = final_data['cleaned_text'].values\n",
    "Y = final_data['Score'].values\n",
    "print(\"X:\",X.shape,type(X))\n",
    "print(\"Y:\",Y.shape,type(Y))"
   ]
  },
  {
   "cell_type": "code",
   "execution_count": 132,
   "metadata": {},
   "outputs": [
    {
     "name": "stdout",
     "output_type": "stream",
     "text": [
      "After Splitting the Data: \n",
      "Train: (8000,) (8000,)\n",
      "Test: (2000,) (2000,)\n",
      "Cross Validation: (2000,) (2000,)\n"
     ]
    }
   ],
   "source": [
    "from sklearn.model_selection import train_test_split\n",
    "from sklearn.metrics import roc_auc_score\n",
    "from sklearn.neighbors import KNeighborsClassifier\n",
    "from sklearn.model_selection import GridSearchCV\n",
    "from sklearn.feature_extraction.text import CountVectorizer\n",
    "import matplotlib.pyplot as plt\n",
    "\n",
    "X_train,X_test,Y_train,Y_test = train_test_split(X,Y,test_size=0.2,random_state=0)\n",
    "X_train,X_cv,Y_train,Y_cv = train_test_split(X,Y,test_size=0.2,random_state=0)\n",
    "print(\"After Splitting the Data: \")\n",
    "print(\"Train:\",X_train.shape,Y_train.shape)\n",
    "print(\"Test:\",X_test.shape,Y_test.shape)\n",
    "print(\"Cross Validation:\",X_cv.shape,Y_cv.shape)"
   ]
  },
  {
   "cell_type": "markdown",
   "metadata": {
    "colab_type": "text",
    "id": "ArO5fI7kDYMv"
   },
   "source": [
    "### [5.1.1] Applying KNN brute force on BOW,<font color='red'> SET 1</font>"
   ]
  },
  {
   "cell_type": "code",
   "execution_count": 133,
   "metadata": {
    "colab": {},
    "colab_type": "code",
    "id": "Rw_A_9pfDYMw"
   },
   "outputs": [
    {
     "name": "stdout",
     "output_type": "stream",
     "text": [
      "BOW:After Transforming \n",
      "X-Train-Bow:  (8000, 18687)\n",
      "X-CV-Bow:  (2000,)\n",
      "X_Test-Bow:  (2000,)\n"
     ]
    }
   ],
   "source": [
    "vect=CountVectorizer()\n",
    "vect=vect.fit(X_train) #we fit ONLY on Train data\n",
    "X_train_bow=vect.transform(X_train)\n",
    "X_cv_bow=vect.transform(X_cv)\n",
    "X_test_bow=vect.transform(X_test)\n",
    "print(\"BOW:After Transforming \")\n",
    "print(\"X-Train-Bow: \",X_train_bow.shape)\n",
    "print(\"X-CV-Bow: \",X_cv.shape)\n",
    "print(\"X_Test-Bow: \",X_test.shape)"
   ]
  },
  {
   "cell_type": "code",
   "execution_count": 134,
   "metadata": {},
   "outputs": [
    {
     "name": "stderr",
     "output_type": "stream",
     "text": [
      "100%|██████████████████████████████████████████| 12/12 [02:28<00:00, 12.35s/it]\n"
     ]
    },
    {
     "data": {
      "image/png": "[encoded data removed]",
      "text/plain": [
       "<Figure size 432x288 with 1 Axes>"
      ]
     },
     "metadata": {},
     "output_type": "display_data"
    }
   ],
   "source": [
    "\n",
    "train_auc=[]\n",
    "cv_auc=[]\n",
    "K = list(range(1,120,10))\n",
    "for i in tqdm(K):\n",
    "    neigh = KNeighborsClassifier(n_neighbors=i,algorithm='brute')\n",
    "    neigh.fit(X_train_bow,Y_train)\n",
    "    Y_train_pred= neigh.predict_proba(X_train_bow)[:,1]\n",
    "    Y_cv_pred = neigh.predict_proba(X_cv_bow)[:,1]\n",
    "    #we append the predicted values to train_auc & cv_auc list\n",
    "    train_auc.append(roc_auc_score(Y_train,Y_train_pred)) #Train data predictions\n",
    "    cv_auc.append(roc_auc_score(Y_cv,Y_cv_pred)) #Cross Validation data predictions\n",
    "    \n",
    "#Will  plolt Error plots between Train and CV Data predictions\n",
    "plt.plot(K,train_auc,label='Train_AUC')\n",
    "plt.plot(K,cv_auc,label='CV_AUC')\n",
    "plt.legend()\n",
    "plt.xlabel(\"K: HyperParamater\")\n",
    "plt.ylabel(\"AUC\")\n",
    "plt.title(\"Error Plots\")\n",
    "plt.show()"
   ]
  },
  {
   "cell_type": "code",
   "execution_count": 26,
   "metadata": {},
   "outputs": [
    {
     "name": "stderr",
     "output_type": "stream",
     "text": [
      "100%|██████████████████████████████████████████| 13/13 [00:43<00:00,  3.33s/it]\n"
     ]
    }
   ],
   "source": [
    "#Based on the above plot we can see that optimal K lies between 75 - 100\n",
    "# we will calucalte cross-validation scores of k in range of 75-100\n",
    "from sklearn.model_selection import cross_val_score\n",
    "\n",
    "neighb = list(range(75,100,2))\n",
    "cv_score = []\n",
    "for i in tqdm(neighb):\n",
    "    knn=KNeighborsClassifier(n_neighbors=i,algorithm='brute')\n",
    "    scores=cross_val_score(knn,X_train_bow,Y_train,cv=10,scoring='accuracy')\n",
    "    cv_score.append(scores.mean())"
   ]
  },
  {
   "cell_type": "code",
   "execution_count": 135,
   "metadata": {},
   "outputs": [
    {
     "name": "stdout",
     "output_type": "stream",
     "text": [
      "Optimal-K:  65\n"
     ]
    },
    {
     "data": {
      "image/png": "[encoded data removed]",
      "text/plain": [
       "<Figure size 432x288 with 1 Axes>"
      ]
     },
     "metadata": {},
     "output_type": "display_data"
    },
    {
     "name": "stdout",
     "output_type": "stream",
     "text": [
      "Misclassification error for each K:  [0.346 0.324 0.331 0.318 0.33  0.327 0.325 0.317 0.322 0.319]\n"
     ]
    }
   ],
   "source": [
    "#Will calculate Misclassification Error\n",
    "MSE = [1 -x for x in cv_score]\n",
    "optimal_k=neighb[MSE.index(min(MSE))]\n",
    "print(\"Optimal-K: \",optimal_k)\n",
    "\n",
    "#Plotting Misclassification vs K\n",
    "plt.plot(neighb,MSE)\n",
    "plt.title('K-Numb of neighbors and Misclasiification sError')\n",
    "plt.xlabel('Number of Neighbors-K')\n",
    "plt.ylabel('Misclassification Error')\n",
    "plt.show()\n",
    "\n",
    "print(\"Misclassification error for each K: \",np.round(MSE,3))"
   ]
  },
  {
   "cell_type": "code",
   "execution_count": 136,
   "metadata": {},
   "outputs": [
    {
     "name": "stdout",
     "output_type": "stream",
     "text": [
      "Training Accuracy:  0.716\n",
      "Training Error:     0.28400000000000003\n",
      "Testing Accuracy:   0.697\n",
      "Testing Error:      0.30300000000000005\n"
     ]
    }
   ],
   "source": [
    "from sklearn.metrics import accuracy_score\n",
    "\n",
    "#Now will instantiate learning model with optimal K\n",
    "knn_optimal = KNeighborsClassifier(n_neighbors=optimal_k,algorithm='brute')\n",
    "#Fitting the model\n",
    "knn_optimal.fit(X_train_bow,Y_train)\n",
    "#will predict the response on test data\n",
    "pred=knn_optimal.predict(X_test_bow)\n",
    "\n",
    "#Evaluating accuracy now\n",
    "train_acc = knn_optimal.score(X_train_bow,Y_train)\n",
    "train_err = 1 - train_acc\n",
    "test_acc  = accuracy_score(Y_test,pred)\n",
    "test_err  = 1 - test_acc\n",
    "\n",
    "print(\"Training Accuracy: \",train_acc)\n",
    "print(\"Training Error:    \",train_err)\n",
    "print(\"Testing Accuracy:  \",test_acc)\n",
    "print(\"Testing Error:     \",test_err)"
   ]
  },
  {
   "cell_type": "code",
   "execution_count": 138,
   "metadata": {},
   "outputs": [
    {
     "data": {
      "text/plain": [
       "Text(0.5,1,'AUC - Error Plots')"
      ]
     },
     "execution_count": 138,
     "metadata": {},
     "output_type": "execute_result"
    },
    {
     "data": {
      "image/png": "[encoded data removed]",
      "text/plain": [
       "<Figure size 432x288 with 1 Axes>"
      ]
     },
     "metadata": {},
     "output_type": "display_data"
    }
   ],
   "source": [
    "#https://www.programcreek.com/python/example/81207/sklearn.metrics.roc_curve\n",
    "#Will Plot the Area Under Curve(AUC)\n",
    "\n",
    "train_fpr,train_tpr,thresholds = roc_curve(Y_train,knn_optimal.predict_proba(X_train_bow)[:,1] )\n",
    "test_fpr,test_tpr,thresholds = roc_curve(Y_test,knn_optimal.predict_proba(X_test_bow)[:,1])\n",
    "plt.plot(train_fpr,train_tpr,label='Train-AUC :'+str(auc(train_fpr,train_tpr)))\n",
    "plt.plot(test_fpr,test_tpr,label='Test-Auc'+str(auc(test_fpr,test_tpr)))\n",
    "AUC1=str(auc(test_fpr,test_tpr))\n",
    "plt.legend()\n",
    "plt.xlabel(\"HyperParameter- K \")\n",
    "plt.ylabel(\"AUC\")\n",
    "plt.title(\"AUC - Error Plots\")"
   ]
  },
  {
   "cell_type": "code",
   "execution_count": 139,
   "metadata": {},
   "outputs": [
    {
     "name": "stdout",
     "output_type": "stream",
     "text": [
      "Train Confusion Matrix\n",
      "[[2650 1338]\n",
      " [ 934 3078]]\n",
      "Test Confusion Matrix\n",
      "[[633 379]\n",
      " [227 761]]\n"
     ]
    }
   ],
   "source": [
    "#Confusion Matrix\n",
    "from sklearn.metrics import confusion_matrix\n",
    "print(\"Train Confusion Matrix\")\n",
    "print(confusion_matrix(Y_train,knn_optimal.predict(X_train_bow)))\n",
    "print(\"Test Confusion Matrix\")\n",
    "print(confusion_matrix(Y_test,knn_optimal.predict(X_test_bow)))"
   ]
  },
  {
   "cell_type": "code",
   "execution_count": 140,
   "metadata": {},
   "outputs": [
    {
     "name": "stdout",
     "output_type": "stream",
     "text": [
      "             precision    recall  f1-score   support\n",
      "\n",
      "          0       0.74      0.63      0.68      1012\n",
      "          1       0.67      0.77      0.72       988\n",
      "\n",
      "avg / total       0.70      0.70      0.70      2000\n",
      "\n"
     ]
    }
   ],
   "source": [
    "#Classification Report:\n",
    "from sklearn.metrics import classification_report\n",
    "print(classification_report(Y_test,pred))"
   ]
  },
  {
   "cell_type": "markdown",
   "metadata": {
    "colab_type": "text",
    "id": "m0UxvEKBDYM8"
   },
   "source": [
    "### [5.1.2] Applying KNN brute force on TFIDF,<font color='red'> SET 2</font>"
   ]
  },
  {
   "cell_type": "code",
   "execution_count": 141,
   "metadata": {
    "colab": {},
    "colab_type": "code",
    "id": "5ffXQxa7DYM9"
   },
   "outputs": [
    {
     "name": "stdout",
     "output_type": "stream",
     "text": [
      "Train-TfIdf:  (8000, 10936)\n",
      "CV-TfIDF:  (2000, 10936)\n",
      "Test-TfIdf (2000, 10936)\n"
     ]
    }
   ],
   "source": [
    "tf_idf_vect =TfidfVectorizer(ngram_range=(1,2),min_df=5)\n",
    "tf_idf_vect.fit(X_train)#fit ONLY on Train data\n",
    "X_train_tfidf=tf_idf_vect.transform(X_train)\n",
    "X_cv_tfidf=tf_idf_vect.transform(X_cv)\n",
    "X_test_tfidf=tf_idf_vect.transform(X_test)\n",
    "print(\"Train-TfIdf: \",X_train_tfidf.shape)\n",
    "print(\"CV-TfIDF: \",X_cv_tfidf.shape)\n",
    "print(\"Test-TfIdf\",X_test_tfidf.shape)"
   ]
  },
  {
   "cell_type": "code",
   "execution_count": 142,
   "metadata": {},
   "outputs": [
    {
     "name": "stderr",
     "output_type": "stream",
     "text": [
      "100%|██████████████████████████████████████████| 45/45 [03:36<00:00,  4.80s/it]\n"
     ]
    },
    {
     "data": {
      "image/png": "[encoded data removed]",
      "text/plain": [
       "<Figure size 432x288 with 1 Axes>"
      ]
     },
     "metadata": {},
     "output_type": "display_data"
    }
   ],
   "source": [
    "\n",
    "train_auc=[]\n",
    "cv_auc=[]\n",
    "K = list(range(1,450,10))\n",
    "for i in tqdm(K):\n",
    "    neigh = KNeighborsClassifier(n_neighbors=i,algorithm='brute')\n",
    "    neigh.fit(X_train_tfidf,Y_train)\n",
    "    Y_train_pred= neigh.predict_proba(X_train_tfidf)[:,1]\n",
    "    Y_cv_pred = neigh.predict_proba(X_cv_tfidf)[:,1]\n",
    "    #we append the predicted values to train_auc & cv_auc list\n",
    "    train_auc.append(roc_auc_score(Y_train,Y_train_pred)) #Train data predictions\n",
    "    cv_auc.append(roc_auc_score(Y_cv,Y_cv_pred)) #Cross Validation data predictions\n",
    "    \n",
    "#Will  plolt Error plots between Train and CV Data predictions\n",
    "plt.plot(K,train_auc,label='Train_AUC')\n",
    "plt.scatter(K,train_auc)\n",
    "plt.plot(K,cv_auc,label='CV_AUC')\n",
    "plt.scatter(K,cv_auc)\n",
    "plt.legend()\n",
    "plt.xlabel(\"K: HyperParamater\")\n",
    "plt.ylabel(\"AUC\")\n",
    "plt.title(\"Error Plots- TfIdf\")\n",
    "plt.show()"
   ]
  },
  {
   "cell_type": "code",
   "execution_count": 143,
   "metadata": {},
   "outputs": [
    {
     "name": "stderr",
     "output_type": "stream",
     "text": [
      "100%|██████████████████████████████████████████| 28/28 [01:50<00:00,  3.95s/it]\n"
     ]
    }
   ],
   "source": [
    "#Based on the above plot we can see that optimal K lies between 120 - 400\n",
    "# we will calucalte cross-validation scores of k in range of 75-100\n",
    "from sklearn.model_selection import cross_val_score\n",
    "\n",
    "neighb = list(range(120,400,10))\n",
    "cv_score = []\n",
    "for i in tqdm(neighb):\n",
    "    knn=KNeighborsClassifier(n_neighbors=i,algorithm='brute')\n",
    "    scores=cross_val_score(knn,X_train_tfidf,Y_train,cv=10,scoring='accuracy')\n",
    "    cv_score.append(scores.mean())"
   ]
  },
  {
   "cell_type": "code",
   "execution_count": 144,
   "metadata": {},
   "outputs": [
    {
     "name": "stdout",
     "output_type": "stream",
     "text": [
      "Optimal-K:  330\n"
     ]
    },
    {
     "data": {
      "image/png": "[encoded data removed]",
      "text/plain": [
       "<Figure size 432x288 with 1 Axes>"
      ]
     },
     "metadata": {},
     "output_type": "display_data"
    },
    {
     "name": "stdout",
     "output_type": "stream",
     "text": [
      "Misclassification error for each K:  [0.198 0.196 0.191 0.186 0.183 0.184 0.183 0.182 0.18  0.179 0.178 0.177\n",
      " 0.178 0.177 0.177 0.175 0.174 0.173 0.172 0.171 0.171 0.17  0.171 0.173\n",
      " 0.173 0.172 0.172 0.173]\n"
     ]
    }
   ],
   "source": [
    "#Will calculate Misclassification Error\n",
    "MSE = [1 -x for x in cv_score]\n",
    "optimal_k2=neighb[MSE.index(min(MSE))]\n",
    "print(\"Optimal-K: \",optimal_k2)\n",
    "\n",
    "#Plotting Misclassification vs K\n",
    "plt.plot(neighb,MSE)\n",
    "plt.title('K-Numb of neighbors and Misclasiification Error - Tf-Idf')\n",
    "plt.xlabel('Number of Neighbors-K')\n",
    "plt.ylabel('Misclassification Error')\n",
    "plt.show()\n",
    "\n",
    "print(\"Misclassification error for each K: \",np.round(MSE,3))"
   ]
  },
  {
   "cell_type": "code",
   "execution_count": 145,
   "metadata": {},
   "outputs": [
    {
     "name": "stdout",
     "output_type": "stream",
     "text": [
      "Training Accuracy:  0.833\n",
      "Training Error:     0.16700000000000004\n",
      "Testing Accuracy:   0.8345\n",
      "Testing Error:      0.16549999999999998\n"
     ]
    }
   ],
   "source": [
    "from sklearn.metrics import accuracy_score\n",
    "\n",
    "#Now will instantiate learning model with optimal K\n",
    "knn_optimal = KNeighborsClassifier(n_neighbors=optimal_k2,algorithm='brute')\n",
    "#Fitting the model\n",
    "knn_optimal.fit(X_train_tfidf,Y_train)\n",
    "#will predict the response on test data\n",
    "pred=knn_optimal.predict(X_test_tfidf)\n",
    "\n",
    "#Evaluating accuracy now\n",
    "train_acc = knn_optimal.score(X_train_tfidf,Y_train)\n",
    "train_err = 1 - train_acc\n",
    "test_acc  = accuracy_score(Y_test,pred)\n",
    "test_err  = 1 - test_acc\n",
    "\n",
    "print(\"Training Accuracy: \",train_acc)\n",
    "print(\"Training Error:    \",train_err)\n",
    "print(\"Testing Accuracy:  \",test_acc)\n",
    "print(\"Testing Error:     \",test_err)"
   ]
  },
  {
   "cell_type": "code",
   "execution_count": 146,
   "metadata": {},
   "outputs": [
    {
     "data": {
      "text/plain": [
       "Text(0.5,1,'AUC - Error Plots Tf-Idf')"
      ]
     },
     "execution_count": 146,
     "metadata": {},
     "output_type": "execute_result"
    },
    {
     "data": {
      "image/png": "[encoded data removed]",
      "text/plain": [
       "<Figure size 432x288 with 1 Axes>"
      ]
     },
     "metadata": {},
     "output_type": "display_data"
    }
   ],
   "source": [
    "#https://www.programcreek.com/python/example/81207/sklearn.metrics.roc_curve\n",
    "#Will Plot the Area Under Curve(AUC)\n",
    "\n",
    "train_fpr,train_tpr,thresholds = roc_curve(Y_train,knn_optimal.predict_proba(X_train_tfidf)[:,1] )\n",
    "test_fpr,test_tpr,thresholds = roc_curve(Y_test,knn_optimal.predict_proba(X_test_tfidf)[:,1])\n",
    "plt.plot(train_fpr,train_tpr,label='Train-AUC :'+str(auc(train_fpr,train_tpr)))\n",
    "plt.plot(test_fpr,test_tpr,label='Test-Auc'+str(auc(test_fpr,test_tpr)))\n",
    "AUC2=str(auc(test_fpr,test_tpr))\n",
    "plt.legend()\n",
    "plt.xlabel(\"HyperParameter- K \")\n",
    "plt.ylabel(\"AUC\")\n",
    "plt.title(\"AUC - Error Plots Tf-Idf\")"
   ]
  },
  {
   "cell_type": "code",
   "execution_count": 147,
   "metadata": {},
   "outputs": [
    {
     "name": "stdout",
     "output_type": "stream",
     "text": [
      "Train Confusion Matrix -Tf-Idf\n",
      "[[3281  707]\n",
      " [ 629 3383]]\n",
      "Test Confusion Matrix - Tf-Idf\n",
      "[[824 188]\n",
      " [143 845]]\n"
     ]
    }
   ],
   "source": [
    "#Confusion Matrix\n",
    "from sklearn.metrics import confusion_matrix\n",
    "print(\"Train Confusion Matrix -Tf-Idf\")\n",
    "print(confusion_matrix(Y_train,knn_optimal.predict(X_train_tfidf)))\n",
    "print(\"Test Confusion Matrix - Tf-Idf\")\n",
    "print(confusion_matrix(Y_test,knn_optimal.predict(X_test_tfidf)))"
   ]
  },
  {
   "cell_type": "code",
   "execution_count": 148,
   "metadata": {},
   "outputs": [
    {
     "name": "stdout",
     "output_type": "stream",
     "text": [
      "             precision    recall  f1-score   support\n",
      "\n",
      "          0       0.85      0.81      0.83      1012\n",
      "          1       0.82      0.86      0.84       988\n",
      "\n",
      "avg / total       0.84      0.83      0.83      2000\n",
      "\n"
     ]
    }
   ],
   "source": [
    "#Classification Report:\n",
    "from sklearn.metrics import classification_report\n",
    "print(classification_report(Y_test,pred))"
   ]
  },
  {
   "cell_type": "markdown",
   "metadata": {
    "colab_type": "text",
    "id": "sgcPCRG8DYNC"
   },
   "source": [
    "### [5.1.3] Applying KNN brute force on AVG W2V,<font color='red'> SET 3</font>"
   ]
  },
  {
   "cell_type": "code",
   "execution_count": 149,
   "metadata": {
    "colab": {},
    "colab_type": "code",
    "id": "bT4Dm8fiDYNL"
   },
   "outputs": [
    {
     "name": "stderr",
     "output_type": "stream",
     "text": [
      "WARNING:gensim.models.base_any2vec:consider setting layer size to a multiple of 4 for greater performance\n"
     ]
    },
    {
     "name": "stdout",
     "output_type": "stream",
     "text": [
      "number of words that occured minimum 5 times  5695\n",
      "sample words  ['far', 'dog', 'not', 'interested', 'toy', 'sure', 'going', 'concept', 'great', 'guess', 'gotta', 'actually', 'likes', 'work', 'maybe', 'show', 'interest', 'later', 'new', 'toys', 'call', 'product', 'licorice', 'taste', 'gave', 'gas', 'returns', 'says', 'no', 'stuck', 'horrible', 'tasting', 'black', 'bears', 'one', 'review', 'lacking', 'sense', 'buying', 'vine', 'brand', 'throw', 'sugar', 'free', 'trash', 'bin', 'tastes', 'made', 'without', 'eggs']\n"
     ]
    }
   ],
   "source": [
    "i=0\n",
    "list_of_sentance_train=[]\n",
    "for sentance in X_train:\n",
    "    list_of_sentance_train.append(sentance.split())\n",
    "#will train our w2v model using the sentences in our train_data\n",
    "w2v_model=Word2Vec(list_of_sentance_train,min_count=5,size=50,workers=4)\n",
    "w2v_words = list(w2v_model.wv.vocab)\n",
    "print(\"number of words that occured minimum 5 times \",len(w2v_words))\n",
    "print(\"sample words \", w2v_words[0:50])"
   ]
  },
  {
   "cell_type": "code",
   "execution_count": 150,
   "metadata": {},
   "outputs": [
    {
     "name": "stderr",
     "output_type": "stream",
     "text": [
      "100%|█████████████████████████████████████| 8000/8000 [00:14<00:00, 535.66it/s]\n"
     ]
    },
    {
     "name": "stdout",
     "output_type": "stream",
     "text": [
      "(8000, 50)\n",
      "[ 1.98903505e-02 -7.84264062e-02  5.69168688e-01 -2.80875112e-01\n",
      "  6.16918880e-01  9.91349493e-02 -2.28120751e-01  2.74707291e-01\n",
      " -5.28280795e-01  4.38519139e-01 -3.50490403e-01  3.11072335e-01\n",
      "  3.38056013e-01 -4.24920690e-01 -1.02937617e+00  4.35151724e-01\n",
      " -4.57121982e-01  2.16800756e-02  6.99817322e-01  6.13034428e-01\n",
      " -3.43008618e-01  2.76334450e-02 -5.16486102e-02  1.07611476e-01\n",
      " -9.58413322e-01 -4.76576474e-02  2.16015566e-01  4.74544429e-01\n",
      "  5.06246629e-05  2.07121821e-01 -1.08373715e-01  3.31075405e-01\n",
      " -1.64071650e-01  2.38252273e-01  1.62302948e-01  5.69833656e-01\n",
      "  3.72628156e-01  1.42750006e-01  4.59265056e-01 -1.20510830e-01\n",
      "  1.85380803e-03  1.02482017e-01 -3.26564028e-01  1.58690044e-02\n",
      "  8.83200638e-02  3.21915191e-01 -6.39429111e-01  5.42265625e-02\n",
      " -1.18692555e-02  1.65763863e-01]\n"
     ]
    }
   ],
   "source": [
    "# average Word2Vec\n",
    "# compute average word2vec for each review.\n",
    "sent_vectors_train = []; # the avg-w2v for each sentence/review is stored in this list\n",
    "for sent in tqdm(list_of_sentance_train): # for each review/sentence\n",
    "    sent_vec = np.zeros(50) # as word vectors are of zero length 50, you might need to change this to 300 if you use google's w2v\n",
    "    cnt_words =0; # num of words with a valid vector in the sentence/review\n",
    "    for word in sent: # for each word in a review/sentence\n",
    "        if word in w2v_words:\n",
    "            vec = w2v_model.wv[word]\n",
    "            sent_vec += vec\n",
    "            cnt_words += 1\n",
    "    if cnt_words != 0:\n",
    "        sent_vec /= cnt_words\n",
    "    sent_vectors_train.append(sent_vec)\n",
    "sent_vectors_train = np.array(sent_vectors_train)\n",
    "print(sent_vectors_train.shape)\n",
    "print(sent_vectors_train[0])"
   ]
  },
  {
   "cell_type": "code",
   "execution_count": 151,
   "metadata": {},
   "outputs": [
    {
     "name": "stderr",
     "output_type": "stream",
     "text": [
      "100%|█████████████████████████████████████| 2000/2000 [00:03<00:00, 526.98it/s]\n"
     ]
    },
    {
     "name": "stdout",
     "output_type": "stream",
     "text": [
      "(2000, 50)\n",
      "[ 0.07924108 -0.21553846  0.35639653 -0.19694853  0.68202198 -0.04537937\n",
      " -0.03289943  0.3207276  -0.63573036  0.52368002 -0.3399201   0.28689481\n",
      "  0.15173763 -0.62830019 -0.65056583  0.33483969 -0.4675887  -0.04091075\n",
      "  1.004899    0.57161699 -0.22728517 -0.06107672 -0.22938657  0.00383277\n",
      " -0.81217663 -0.10767981  0.26354733  0.43197711 -0.18454061  0.2204687\n",
      " -0.02940543  0.54436233 -0.28441307  0.16282474  0.26317974  0.51738993\n",
      "  0.26683808  0.07671717  0.40309053 -0.15114304  0.05126396  0.2719937\n",
      " -0.21482808 -0.26660862 -0.02969977  0.32961055 -0.41726305  0.13513175\n",
      " -0.10612778  0.39632308]\n"
     ]
    }
   ],
   "source": [
    "i=0\n",
    "list_of_sentance_cv=[]\n",
    "for sentance in X_cv:\n",
    "    list_of_sentance_cv.append(sentance.split())\n",
    "# average Word2Vec\n",
    "# compute average word2vec for each review.\n",
    "sent_vectors_cv = []; # the avg-w2v for each sentence/review is stored in this list\n",
    "for sent in tqdm(list_of_sentance_cv): # for each review/sentence\n",
    "    sent_vec = np.zeros(50) # as word vectors are of zero length 50, you might need to change this to 300 if you use google's w2v\n",
    "    cnt_words =0; # num of words with a valid vector in the sentence/review\n",
    "    for word in sent: # for each word in a review/sentence\n",
    "        if word in w2v_words:\n",
    "            vec = w2v_model.wv[word]\n",
    "            sent_vec += vec\n",
    "            cnt_words += 1\n",
    "    if cnt_words != 0:\n",
    "        sent_vec /= cnt_words\n",
    "    sent_vectors_cv.append(sent_vec)\n",
    "sent_vectors_cv = np.array(sent_vectors_cv)\n",
    "print(sent_vectors_cv.shape)\n",
    "print(sent_vectors_cv[0])"
   ]
  },
  {
   "cell_type": "code",
   "execution_count": 152,
   "metadata": {},
   "outputs": [
    {
     "name": "stderr",
     "output_type": "stream",
     "text": [
      "100%|█████████████████████████████████████| 2000/2000 [00:03<00:00, 548.51it/s]\n"
     ]
    },
    {
     "name": "stdout",
     "output_type": "stream",
     "text": [
      "(2000, 50)\n",
      "[ 0.07924108 -0.21553846  0.35639653 -0.19694853  0.68202198 -0.04537937\n",
      " -0.03289943  0.3207276  -0.63573036  0.52368002 -0.3399201   0.28689481\n",
      "  0.15173763 -0.62830019 -0.65056583  0.33483969 -0.4675887  -0.04091075\n",
      "  1.004899    0.57161699 -0.22728517 -0.06107672 -0.22938657  0.00383277\n",
      " -0.81217663 -0.10767981  0.26354733  0.43197711 -0.18454061  0.2204687\n",
      " -0.02940543  0.54436233 -0.28441307  0.16282474  0.26317974  0.51738993\n",
      "  0.26683808  0.07671717  0.40309053 -0.15114304  0.05126396  0.2719937\n",
      " -0.21482808 -0.26660862 -0.02969977  0.32961055 -0.41726305  0.13513175\n",
      " -0.10612778  0.39632308]\n"
     ]
    }
   ],
   "source": [
    "i=0\n",
    "list_of_sentance_test=[]\n",
    "for sentance in X_test:\n",
    "    list_of_sentance_test.append(sentance.split())\n",
    "# average Word2Vec\n",
    "# compute average word2vec for each review.\n",
    "sent_vectors_test = []; # the avg-w2v for each sentence/review is stored in this list\n",
    "for sent in tqdm(list_of_sentance_test): # for each review/sentence\n",
    "    sent_vec = np.zeros(50) # as word vectors are of zero length 50, you might need to change this to 300 if you use google's w2v\n",
    "    cnt_words =0; # num of words with a valid vector in the sentence/review\n",
    "    for word in sent: # for each word in a review/sentence\n",
    "        if word in w2v_words:\n",
    "            vec = w2v_model.wv[word]\n",
    "            sent_vec += vec\n",
    "            cnt_words += 1\n",
    "    if cnt_words != 0:\n",
    "        sent_vec /= cnt_words\n",
    "    sent_vectors_test.append(sent_vec)\n",
    "sent_vectors_test = np.array(sent_vectors_test)\n",
    "print(sent_vectors_test.shape)\n",
    "print(sent_vectors_test[0])"
   ]
  },
  {
   "cell_type": "code",
   "execution_count": 153,
   "metadata": {},
   "outputs": [
    {
     "name": "stderr",
     "output_type": "stream",
     "text": [
      "100%|██████████████████████████████████████████| 20/20 [01:00<00:00,  3.00s/it]\n"
     ]
    },
    {
     "data": {
      "image/png": "[encoded data removed]",
      "text/plain": [
       "<Figure size 432x288 with 1 Axes>"
      ]
     },
     "metadata": {},
     "output_type": "display_data"
    }
   ],
   "source": [
    "\n",
    "train_auc=[]\n",
    "cv_auc=[]\n",
    "K = list(range(1,200,10))\n",
    "for i in tqdm(K):\n",
    "    neigh = KNeighborsClassifier(n_neighbors=i,algorithm='brute')\n",
    "    neigh.fit(sent_vectors_train,Y_train)\n",
    "    Y_train_pred= neigh.predict_proba(sent_vectors_train)[:,1]\n",
    "    Y_cv_pred = neigh.predict_proba(sent_vectors_cv)[:,1]\n",
    "    #we append the predicted values to train_auc & cv_auc list\n",
    "    train_auc.append(roc_auc_score(Y_train,Y_train_pred)) #Train data predictions\n",
    "    cv_auc.append(roc_auc_score(Y_cv,Y_cv_pred)) #Cross Validation data predictions\n",
    "    \n",
    "#Will  plolt Error plots between Train and CV Data predictions\n",
    "plt.plot(K,train_auc,label='Train_AUC')\n",
    "plt.scatter(K,train_auc)\n",
    "plt.plot(K,cv_auc,label='CV_AUC')\n",
    "plt.scatter(K,cv_auc)\n",
    "plt.legend()\n",
    "plt.xlabel(\"K: HyperParamater \")\n",
    "plt.ylabel(\"AUC\")\n",
    "plt.title(\"Error Plots-Avg-W2v\")\n",
    "plt.show()"
   ]
  },
  {
   "cell_type": "code",
   "execution_count": 154,
   "metadata": {},
   "outputs": [
    {
     "name": "stderr",
     "output_type": "stream",
     "text": [
      "100%|████████████████████████████████████████████| 8/8 [00:14<00:00,  1.84s/it]\n"
     ]
    }
   ],
   "source": [
    "#Based on the above plot we can see that optimal K lies between 35 - 75\n",
    "# we will calucalte cross-validation scores of k in range of 35-75\n",
    "from sklearn.model_selection import cross_val_score\n",
    "\n",
    "neighb = list(range(35,75,5))\n",
    "cv_score = []\n",
    "for i in tqdm(neighb):\n",
    "    knn=KNeighborsClassifier(n_neighbors=i,algorithm='brute')\n",
    "    scores=cross_val_score(knn,sent_vectors_train,Y_train,cv=10,scoring='accuracy')\n",
    "    cv_score.append(scores.mean())"
   ]
  },
  {
   "cell_type": "code",
   "execution_count": 155,
   "metadata": {},
   "outputs": [
    {
     "name": "stdout",
     "output_type": "stream",
     "text": [
      "Optimal-K:  45\n"
     ]
    },
    {
     "data": {
      "image/png": "[encoded data removed]",
      "text/plain": [
       "<Figure size 432x288 with 1 Axes>"
      ]
     },
     "metadata": {},
     "output_type": "display_data"
    },
    {
     "name": "stdout",
     "output_type": "stream",
     "text": [
      "Misclassification error for each K:  [0.339 0.341 0.335 0.339 0.337 0.339 0.339 0.338]\n"
     ]
    }
   ],
   "source": [
    "#Will calculate Misclassification Error\n",
    "MSE = [1 -x for x in cv_score]\n",
    "optimal_k3=neighb[MSE.index(min(MSE))]\n",
    "print(\"Optimal-K: \",optimal_k3)\n",
    "\n",
    "#Plotting Misclassification vs K\n",
    "plt.plot(neighb,MSE)\n",
    "plt.title('K-Numb of neighbors and Misclasiification Error - Tf-Idf')\n",
    "plt.xlabel('Number of Neighbors-K')\n",
    "plt.ylabel('Misclassification Error')\n",
    "plt.show()\n",
    "\n",
    "print(\"Misclassification error for each K: \",np.round(MSE,3))"
   ]
  },
  {
   "cell_type": "code",
   "execution_count": 156,
   "metadata": {},
   "outputs": [
    {
     "name": "stdout",
     "output_type": "stream",
     "text": [
      "Training Accuracy:  0.685875\n",
      "Training Error:     0.314125\n",
      "Testing Accuracy:   0.6545\n",
      "Testing Error:      0.34550000000000003\n"
     ]
    }
   ],
   "source": [
    "from sklearn.metrics import accuracy_score\n",
    "\n",
    "#Now will instantiate learning model with optimal K\n",
    "knn_optimal = KNeighborsClassifier(n_neighbors=optimal_k3,algorithm='brute')\n",
    "#Fitting the model\n",
    "knn_optimal.fit(sent_vectors_train,Y_train)\n",
    "#will predict the response on test data\n",
    "pred=knn_optimal.predict(sent_vectors_test)\n",
    "\n",
    "#Evaluating accuracy now\n",
    "train_acc = knn_optimal.score(sent_vectors_train,Y_train)\n",
    "train_err = 1 - train_acc\n",
    "test_acc  = accuracy_score(Y_test,pred)\n",
    "test_err  = 1 - test_acc\n",
    "\n",
    "print(\"Training Accuracy: \",train_acc)\n",
    "print(\"Training Error:    \",train_err)\n",
    "print(\"Testing Accuracy:  \",test_acc)\n",
    "print(\"Testing Error:     \",test_err)"
   ]
  },
  {
   "cell_type": "code",
   "execution_count": 158,
   "metadata": {},
   "outputs": [
    {
     "data": {
      "text/plain": [
       "Text(0.5,1,'AUC - Error Plots Avg W2V')"
      ]
     },
     "execution_count": 158,
     "metadata": {},
     "output_type": "execute_result"
    },
    {
     "data": {
      "image/png": "[encoded data removed]",
      "text/plain": [
       "<Figure size 432x288 with 1 Axes>"
      ]
     },
     "metadata": {},
     "output_type": "display_data"
    }
   ],
   "source": [
    "#https://www.programcreek.com/python/example/81207/sklearn.metrics.roc_curve\n",
    "#Will Plot the Area Under Curve(AUC)\n",
    "\n",
    "train_fpr,train_tpr,thresholds = roc_curve(Y_train,knn_optimal.predict_proba(sent_vectors_train)[:,1] )\n",
    "test_fpr,test_tpr,thresholds = roc_curve(Y_test,knn_optimal.predict_proba(sent_vectors_test)[:,1])\n",
    "plt.plot(train_fpr,train_tpr,label='Train-AUC :'+str(auc(train_fpr,train_tpr)))\n",
    "plt.plot(test_fpr,test_tpr,label='Test-Auc'+str(auc(test_fpr,test_tpr)))\n",
    "AUC3=str(auc(test_fpr,test_tpr))\n",
    "plt.legend()\n",
    "plt.xlabel(\"HyperParameter- K \")\n",
    "plt.ylabel(\"AUC\")\n",
    "plt.title(\"AUC - Error Plots Avg W2V\")"
   ]
  },
  {
   "cell_type": "code",
   "execution_count": 159,
   "metadata": {},
   "outputs": [
    {
     "name": "stdout",
     "output_type": "stream",
     "text": [
      "Train Confusion Matrix -Avg W2V\n",
      "[[2881 1107]\n",
      " [1406 2606]]\n",
      "Test Confusion Matrix - Avg W2V\n",
      "[[714 298]\n",
      " [393 595]]\n"
     ]
    }
   ],
   "source": [
    "#Confusion Matrix\n",
    "from sklearn.metrics import confusion_matrix\n",
    "print(\"Train Confusion Matrix -Avg W2V\")\n",
    "print(confusion_matrix(Y_train,knn_optimal.predict(sent_vectors_train)))\n",
    "print(\"Test Confusion Matrix - Avg W2V\")\n",
    "print(confusion_matrix(Y_test,knn_optimal.predict(sent_vectors_test)))"
   ]
  },
  {
   "cell_type": "code",
   "execution_count": 160,
   "metadata": {},
   "outputs": [
    {
     "name": "stdout",
     "output_type": "stream",
     "text": [
      "             precision    recall  f1-score   support\n",
      "\n",
      "          0       0.64      0.71      0.67      1012\n",
      "          1       0.67      0.60      0.63       988\n",
      "\n",
      "avg / total       0.66      0.65      0.65      2000\n",
      "\n"
     ]
    }
   ],
   "source": [
    "#Classification Report:\n",
    "from sklearn.metrics import classification_report\n",
    "print(classification_report(Y_test,pred))"
   ]
  },
  {
   "cell_type": "markdown",
   "metadata": {
    "colab_type": "text",
    "id": "L-xcoDmADYNP"
   },
   "source": [
    "### [5.1.4] Applying KNN brute force on TFIDF W2V,<font color='red'> SET 4</font>"
   ]
  },
  {
   "cell_type": "code",
   "execution_count": 161,
   "metadata": {
    "colab": {},
    "colab_type": "code",
    "id": "Z9tFDe5_DYNQ"
   },
   "outputs": [],
   "source": [
    "# S = [\"abc def pqr\", \"def def def abc\", \"pqr pqr def\"]\n",
    "model = TfidfVectorizer()\n",
    "model.fit(X_train)\n",
    "# we are converting a dictionary with word as a key, and the idf as a value\n",
    "dictionary = dict(zip(model.get_feature_names(), list(model.idf_)))"
   ]
  },
  {
   "cell_type": "code",
   "execution_count": 162,
   "metadata": {},
   "outputs": [
    {
     "name": "stderr",
     "output_type": "stream",
     "text": [
      "100%|██████████████████████████████████████| 8000/8000 [01:39<00:00, 80.51it/s]\n"
     ]
    }
   ],
   "source": [
    "# TF-IDF weighted Word2Vec\n",
    "tfidf_feat = model.get_feature_names() # tfidf words/col-names\n",
    "# final_tf_idf is the sparse matrix with row= sentence, col=word and cell_val = tfidf\n",
    "\n",
    "tfidf_sent_vectors_train = []; # the tfidf-w2v for each sentence/review is stored in this list\n",
    "row=0;\n",
    "for sent in tqdm(list_of_sentance_train): # for each review/sentence \n",
    "    sent_vec = np.zeros(50) # as word vectors are of zero length\n",
    "    weight_sum =0; # num of words with a valid vector in the sentence/review\n",
    "    for word in sent: # for each word in a review/sentence\n",
    "        if word in w2v_words and word in tfidf_feat:\n",
    "            vec = w2v_model.wv[word]\n",
    "#             tf_idf = tf_idf_matrix[row, tfidf_feat.index(word)]\n",
    "            # to reduce the computation we are \n",
    "            # dictionary[word] = idf value of word in whole courpus\n",
    "            # sent.count(word) = tf valeus of word in this review\n",
    "            tf_idf = dictionary[word]*(sent.count(word)/len(sent))\n",
    "            sent_vec += (vec * tf_idf)\n",
    "            weight_sum += tf_idf\n",
    "    if weight_sum != 0:\n",
    "        sent_vec /= weight_sum\n",
    "    tfidf_sent_vectors_train.append(sent_vec)\n",
    "    row += 1"
   ]
  },
  {
   "cell_type": "code",
   "execution_count": 163,
   "metadata": {},
   "outputs": [
    {
     "name": "stderr",
     "output_type": "stream",
     "text": [
      "100%|██████████████████████████████████████| 2000/2000 [00:24<00:00, 80.89it/s]\n"
     ]
    }
   ],
   "source": [
    "# TF-IDF weighted Word2Vec\n",
    "tfidf_feat = model.get_feature_names() # tfidf words/col-names\n",
    "# final_tf_idf is the sparse matrix with row= sentence, col=word and cell_val = tfidf\n",
    "\n",
    "tfidf_sent_vectors_cv = []; # the tfidf-w2v for each sentence/review is stored in this list\n",
    "row=0;\n",
    "for sent in tqdm(list_of_sentance_cv): # for each review/sentence \n",
    "    sent_vec = np.zeros(50) # as word vectors are of zero length\n",
    "    weight_sum =0; # num of words with a valid vector in the sentence/review\n",
    "    for word in sent: # for each word in a review/sentence\n",
    "        if word in w2v_words and word in tfidf_feat:\n",
    "            vec = w2v_model.wv[word]\n",
    "#             tf_idf = tf_idf_matrix[row, tfidf_feat.index(word)]\n",
    "            # to reduce the computation we are \n",
    "            # dictionary[word] = idf value of word in whole courpus\n",
    "            # sent.count(word) = tf valeus of word in this review\n",
    "            tf_idf = dictionary[word]*(sent.count(word)/len(sent))\n",
    "            sent_vec += (vec * tf_idf)\n",
    "            weight_sum += tf_idf\n",
    "    if weight_sum != 0:\n",
    "        sent_vec /= weight_sum\n",
    "    tfidf_sent_vectors_cv.append(sent_vec)\n",
    "    row += 1"
   ]
  },
  {
   "cell_type": "code",
   "execution_count": 164,
   "metadata": {},
   "outputs": [
    {
     "name": "stderr",
     "output_type": "stream",
     "text": [
      "100%|██████████████████████████████████████| 2000/2000 [00:24<00:00, 80.26it/s]\n"
     ]
    }
   ],
   "source": [
    "# TF-IDF weighted Word2Vec\n",
    "tfidf_feat = model.get_feature_names() # tfidf words/col-names\n",
    "# final_tf_idf is the sparse matrix with row= sentence, col=word and cell_val = tfidf\n",
    "\n",
    "tfidf_sent_vectors_test = []; # the tfidf-w2v for each sentence/review is stored in this list\n",
    "row=0;\n",
    "for sent in tqdm(list_of_sentance_test): # for each review/sentence \n",
    "    sent_vec = np.zeros(50) # as word vectors are of zero length\n",
    "    weight_sum =0; # num of words with a valid vector in the sentence/review\n",
    "    for word in sent: # for each word in a review/sentence\n",
    "        if word in w2v_words and word in tfidf_feat:\n",
    "            vec = w2v_model.wv[word]\n",
    "#             tf_idf = tf_idf_matrix[row, tfidf_feat.index(word)]\n",
    "            # to reduce the computation we are \n",
    "            # dictionary[word] = idf value of word in whole courpus\n",
    "            # sent.count(word) = tf valeus of word in this review\n",
    "            tf_idf = dictionary[word]*(sent.count(word)/len(sent))\n",
    "            sent_vec += (vec * tf_idf)\n",
    "            weight_sum += tf_idf\n",
    "    if weight_sum != 0:\n",
    "        sent_vec /= weight_sum\n",
    "    tfidf_sent_vectors_test.append(sent_vec)\n",
    "    row += 1"
   ]
  },
  {
   "cell_type": "code",
   "execution_count": 165,
   "metadata": {},
   "outputs": [
    {
     "name": "stderr",
     "output_type": "stream",
     "text": [
      "100%|██████████████████████████████████████████| 20/20 [00:50<00:00,  2.51s/it]\n"
     ]
    },
    {
     "data": {
      "image/png": "[encoded data removed]",
      "text/plain": [
       "<Figure size 432x288 with 1 Axes>"
      ]
     },
     "metadata": {},
     "output_type": "display_data"
    }
   ],
   "source": [
    "\n",
    "train_auc=[]\n",
    "cv_auc=[]\n",
    "K = list(range(1,200,10))\n",
    "for i in tqdm(K):\n",
    "    neigh = KNeighborsClassifier(n_neighbors=i,algorithm='brute')\n",
    "    neigh.fit(tfidf_sent_vectors_train,Y_train)\n",
    "    Y_train_pred= neigh.predict_proba(tfidf_sent_vectors_train)[:,1]\n",
    "    Y_cv_pred = neigh.predict_proba(tfidf_sent_vectors_cv)[:,1]\n",
    "    #we append the predicted values to train_auc & cv_auc list\n",
    "    train_auc.append(roc_auc_score(Y_train,Y_train_pred)) #Train data predictions\n",
    "    cv_auc.append(roc_auc_score(Y_cv,Y_cv_pred)) #Cross Validation data predictions\n",
    "    \n",
    "#Will  plolt Error plots between Train and CV Data predictions\n",
    "plt.plot(K,train_auc,label='Train_AUC')\n",
    "plt.scatter(K,train_auc)\n",
    "plt.plot(K,cv_auc,label='CV_AUC')\n",
    "plt.scatter(K,cv_auc)\n",
    "plt.legend()\n",
    "plt.xlabel(\"K: HyperParamater \")\n",
    "plt.ylabel(\"AUC\")\n",
    "plt.title(\"Error Plots- TfIdf Avg-W2v\")\n",
    "plt.show()"
   ]
  },
  {
   "cell_type": "code",
   "execution_count": 166,
   "metadata": {},
   "outputs": [
    {
     "name": "stderr",
     "output_type": "stream",
     "text": [
      "100%|████████████████████████████████████████████| 8/8 [00:16<00:00,  2.07s/it]\n"
     ]
    }
   ],
   "source": [
    "#Based on the above plot we can see that optimal K lies between 35 - 75\n",
    "# we will calucalte cross-validation scores of k in range of 35-75\n",
    "from sklearn.model_selection import cross_val_score\n",
    "\n",
    "neighb = list(range(35,75,5))\n",
    "cv_score = []\n",
    "for i in tqdm(neighb):\n",
    "    knn=KNeighborsClassifier(n_neighbors=i,algorithm='brute')\n",
    "    scores=cross_val_score(knn,tfidf_sent_vectors_train,Y_train,cv=10,scoring='accuracy')\n",
    "    cv_score.append(scores.mean())"
   ]
  },
  {
   "cell_type": "code",
   "execution_count": 167,
   "metadata": {},
   "outputs": [
    {
     "name": "stdout",
     "output_type": "stream",
     "text": [
      "Optimal-K:  60\n"
     ]
    },
    {
     "data": {
      "image/png": "[encoded data removed]",
      "text/plain": [
       "<Figure size 432x288 with 1 Axes>"
      ]
     },
     "metadata": {},
     "output_type": "display_data"
    },
    {
     "name": "stdout",
     "output_type": "stream",
     "text": [
      "Misclassification error for each K:  [0.372 0.372 0.376 0.374 0.371 0.37  0.373 0.373]\n"
     ]
    }
   ],
   "source": [
    "#Will calculate Misclassification Error\n",
    "MSE = [1 -x for x in cv_score]\n",
    "optimal_k4=neighb[MSE.index(min(MSE))]\n",
    "print(\"Optimal-K: \",optimal_k4)\n",
    "\n",
    "#Plotting Misclassification vs K\n",
    "plt.plot(neighb,MSE)\n",
    "plt.title('K-Numb of neighbors and Misclasiification Error - Tf-Idf')\n",
    "plt.xlabel('Number of Neighbors-K')\n",
    "plt.ylabel('Misclassification Error')\n",
    "plt.show()\n",
    "\n",
    "print(\"Misclassification error for each K: \",np.round(MSE,3))"
   ]
  },
  {
   "cell_type": "code",
   "execution_count": 168,
   "metadata": {},
   "outputs": [
    {
     "name": "stdout",
     "output_type": "stream",
     "text": [
      "Training Accuracy:  0.649375\n",
      "Training Error:     0.35062499999999996\n",
      "Testing Accuracy:   0.6385\n",
      "Testing Error:      0.36150000000000004\n"
     ]
    }
   ],
   "source": [
    "from sklearn.metrics import accuracy_score\n",
    "\n",
    "#Now will instantiate learning model with optimal K\n",
    "knn_optimal = KNeighborsClassifier(n_neighbors=optimal_k4,algorithm='brute')\n",
    "#Fitting the model\n",
    "knn_optimal.fit(tfidf_sent_vectors_train,Y_train)\n",
    "#will predict the response on test data\n",
    "pred=knn_optimal.predict(tfidf_sent_vectors_test)\n",
    "\n",
    "#Evaluating accuracy now\n",
    "train_acc = knn_optimal.score(tfidf_sent_vectors_train,Y_train)\n",
    "train_err = 1 - train_acc\n",
    "test_acc  = accuracy_score(Y_test,pred)\n",
    "test_err  = 1 - test_acc\n",
    "\n",
    "print(\"Training Accuracy: \",train_acc)\n",
    "print(\"Training Error:    \",train_err)\n",
    "print(\"Testing Accuracy:  \",test_acc)\n",
    "print(\"Testing Error:     \",test_err)"
   ]
  },
  {
   "cell_type": "code",
   "execution_count": 170,
   "metadata": {},
   "outputs": [
    {
     "data": {
      "text/plain": [
       "Text(0.5,1,'AUC - Error Plots TfIdf Weighted W2V')"
      ]
     },
     "execution_count": 170,
     "metadata": {},
     "output_type": "execute_result"
    },
    {
     "data": {
      "image/png": "[encoded data removed]",
      "text/plain": [
       "<Figure size 432x288 with 1 Axes>"
      ]
     },
     "metadata": {},
     "output_type": "display_data"
    }
   ],
   "source": [
    "#https://www.programcreek.com/python/example/81207/sklearn.metrics.roc_curve\n",
    "#Will Plot the Area Under Curve(AUC)\n",
    "\n",
    "train_fpr,train_tpr,thresholds = roc_curve(Y_train,knn_optimal.predict_proba(tfidf_sent_vectors_train)[:,1] )\n",
    "test_fpr,test_tpr,thresholds = roc_curve(Y_test,knn_optimal.predict_proba(tfidf_sent_vectors_test)[:,1])\n",
    "plt.plot(train_fpr,train_tpr,label='Train-AUC :'+str(auc(train_fpr,train_tpr)))\n",
    "plt.plot(test_fpr,test_tpr,label='Test-Auc'+str(auc(test_fpr,test_tpr)))\n",
    "AUC4 = str(auc(test_fpr,test_tpr))\n",
    "plt.legend()\n",
    "plt.xlabel(\"HyperParameter- K \")\n",
    "plt.ylabel(\"AUC\")\n",
    "plt.title(\"AUC - Error Plots TfIdf Weighted W2V\")"
   ]
  },
  {
   "cell_type": "code",
   "execution_count": 171,
   "metadata": {},
   "outputs": [
    {
     "name": "stdout",
     "output_type": "stream",
     "text": [
      "Train Confusion Matrix -TfIdf Weighted W2V\n",
      "[[2648 1340]\n",
      " [1465 2547]]\n",
      "Test Confusion Matrix - TfIdf Weighted W2V\n",
      "[[661 351]\n",
      " [372 616]]\n"
     ]
    }
   ],
   "source": [
    "#Confusion Matrix\n",
    "from sklearn.metrics import confusion_matrix\n",
    "print(\"Train Confusion Matrix -TfIdf Weighted W2V\")\n",
    "print(confusion_matrix(Y_train,knn_optimal.predict(tfidf_sent_vectors_train)))\n",
    "print(\"Test Confusion Matrix - TfIdf Weighted W2V\")\n",
    "print(confusion_matrix(Y_test,knn_optimal.predict(tfidf_sent_vectors_test)))"
   ]
  },
  {
   "cell_type": "code",
   "execution_count": 172,
   "metadata": {},
   "outputs": [
    {
     "name": "stdout",
     "output_type": "stream",
     "text": [
      "             precision    recall  f1-score   support\n",
      "\n",
      "          0       0.64      0.65      0.65      1012\n",
      "          1       0.64      0.62      0.63       988\n",
      "\n",
      "avg / total       0.64      0.64      0.64      2000\n",
      "\n"
     ]
    }
   ],
   "source": [
    "#Classification Report:\n",
    "from sklearn.metrics import classification_report\n",
    "print(classification_report(Y_test,pred))"
   ]
  },
  {
   "cell_type": "markdown",
   "metadata": {
    "colab_type": "text",
    "id": "v2x7vWX-DYNT"
   },
   "source": [
    "## [5.2] Applying KNN kd-tree"
   ]
  },
  {
   "cell_type": "markdown",
   "metadata": {
    "colab_type": "text",
    "id": "jfY8wT02DYNU"
   },
   "source": [
    "### [5.2.1] Applying KNN kd-tree on BOW,<font color='red'> SET 5</font>"
   ]
  },
  {
   "cell_type": "code",
   "execution_count": 173,
   "metadata": {
    "colab": {},
    "colab_type": "code",
    "id": "kiIQYuA2DYNV"
   },
   "outputs": [
    {
     "name": "stdout",
     "output_type": "stream",
     "text": [
      "(2000,) <class 'numpy.ndarray'>\n",
      "(2000,) <class 'numpy.ndarray'>\n"
     ]
    }
   ],
   "source": [
    "positive_data2=final[final['Score']==1].sample(n=1000)\n",
    "negative_data2=final[final['Score']==0].sample(n=1000)\n",
    "final2=pd.concat([positive_data2,negative_data2])\n",
    "\n",
    "A=final2['cleaned_text'].values\n",
    "B=final2['Score'].values\n",
    "print(A.shape,type(A))\n",
    "print(B.shape,type(B))"
   ]
  },
  {
   "cell_type": "code",
   "execution_count": 174,
   "metadata": {},
   "outputs": [
    {
     "name": "stdout",
     "output_type": "stream",
     "text": [
      "After Sampling:\n",
      "Train Data:  (1600,) (1600,)\n",
      "Test Data:   (400,) (400,)\n",
      "CV Data:     (400,) (400,)\n"
     ]
    }
   ],
   "source": [
    "A_train,A_test,B_train,B_test=train_test_split(A,B,test_size=0.2,random_state=10)\n",
    "A_train,A_cv,B_train,B_cv=train_test_split(A,B,test_size=0.2,random_state=10)\n",
    "print(\"After Sampling:\")\n",
    "print(\"Train Data: \",A_train.shape,B_train.shape)\n",
    "print(\"Test Data:  \",A_test.shape,B_test.shape)\n",
    "print(\"CV Data:    \",A_cv.shape,B_cv.shape)"
   ]
  },
  {
   "cell_type": "code",
   "execution_count": 176,
   "metadata": {},
   "outputs": [
    {
     "name": "stdout",
     "output_type": "stream",
     "text": [
      "BOW:After Transforming \n",
      "X-Train-Bow:  (1600, 500)\n",
      "X-CV-Bow:  (400, 500)\n",
      "X_Test-Bow:  (400, 500)\n"
     ]
    }
   ],
   "source": [
    "# Please write all the code with proper documentation\n",
    "vect=CountVectorizer(min_df=10,max_features=500)\n",
    "vect=vect.fit(A_train) #we fit ONLY on Train data\n",
    "Kd_train_bow=vect.transform(A_train)\n",
    "Kd_cv_bow=vect.transform(A_cv)\n",
    "Kd_test_bow=vect.transform(A_test)\n",
    "print(\"BOW:After Transforming \")\n",
    "print(\"X-Train-Bow: \",Kd_train_bow.shape)\n",
    "print(\"X-CV-Bow: \",Kd_cv_bow.shape)\n",
    "print(\"X_Test-Bow: \",Kd_test_bow.shape)"
   ]
  },
  {
   "cell_type": "code",
   "execution_count": 177,
   "metadata": {},
   "outputs": [
    {
     "name": "stderr",
     "output_type": "stream",
     "text": [
      "100%|██████████████████████████████████████████| 15/15 [00:50<00:00,  3.37s/it]\n"
     ]
    },
    {
     "data": {
      "image/png": "[encoded data removed]",
      "text/plain": [
       "<Figure size 432x288 with 1 Axes>"
      ]
     },
     "metadata": {},
     "output_type": "display_data"
    }
   ],
   "source": [
    "\n",
    "train_auc=[]\n",
    "cv_auc=[]\n",
    "K = list(range(1,150,10))\n",
    "for i in tqdm(K):\n",
    "    neigh = KNeighborsClassifier(n_neighbors=i,algorithm='kd_tree')\n",
    "    neigh.fit(Kd_train_bow.todense(),B_train)\n",
    "    B_train_pred= neigh.predict_proba(Kd_train_bow.todense())[:,1]\n",
    "    B_cv_pred = neigh.predict_proba(Kd_cv_bow.todense())[:,1]\n",
    "    #we append the predicted values to train_auc & cv_auc list\n",
    "    train_auc.append(roc_auc_score(B_train,B_train_pred)) #Train data predictions\n",
    "    cv_auc.append(roc_auc_score(B_cv,B_cv_pred)) #Cross Validation data predictions\n",
    "    \n",
    "#Will  plolt Error plots between Train and CV Data predictions\n",
    "plt.plot(K,train_auc,label='Train_AUC')\n",
    "plt.plot(K,cv_auc,label='CV_AUC')\n",
    "plt.legend()\n",
    "plt.xlabel(\"K: HyperParamater\")\n",
    "plt.ylabel(\"AUC\")\n",
    "plt.title(\"Kdtree-Error Plots\")\n",
    "plt.show()"
   ]
  },
  {
   "cell_type": "code",
   "execution_count": 178,
   "metadata": {},
   "outputs": [
    {
     "name": "stderr",
     "output_type": "stream",
     "text": [
      "100%|██████████████████████████████████████████| 10/10 [00:30<00:00,  3.06s/it]\n"
     ]
    }
   ],
   "source": [
    "#Based on the above plot we can see that optimal K lies between 30 - 80\n",
    "# we will calucalte cross-validation scores of k in range of 30-80\n",
    "from sklearn.model_selection import cross_val_score\n",
    "\n",
    "neighb = list(range(30,80,5))\n",
    "cv_score = []\n",
    "for i in tqdm(neighb):\n",
    "    knn=KNeighborsClassifier(n_neighbors=i,algorithm='kd_tree')\n",
    "    scores=cross_val_score(knn,Kd_train_bow.todense(),B_train,cv=10,scoring='accuracy')\n",
    "    cv_score.append(scores.mean())"
   ]
  },
  {
   "cell_type": "code",
   "execution_count": 179,
   "metadata": {},
   "outputs": [
    {
     "name": "stdout",
     "output_type": "stream",
     "text": [
      "Optimal-K:  75\n"
     ]
    },
    {
     "data": {
      "image/png": "[encoded data removed]",
      "text/plain": [
       "<Figure size 432x288 with 1 Axes>"
      ]
     },
     "metadata": {},
     "output_type": "display_data"
    },
    {
     "name": "stdout",
     "output_type": "stream",
     "text": [
      "Misclassification error for each K:  [0.322 0.319 0.309 0.309 0.307 0.313 0.305 0.302 0.304 0.298]\n"
     ]
    }
   ],
   "source": [
    "#Will calculate Misclassification Error\n",
    "MSE = [1 -x for x in cv_score]\n",
    "optimal_k5=neighb[MSE.index(min(MSE))]\n",
    "print(\"Optimal-K: \",optimal_k5)\n",
    "\n",
    "#Plotting Misclassification vs K\n",
    "plt.plot(neighb,MSE)\n",
    "plt.title('K-Numb of neighbors and Misclasiification Error - BoW(Kd-tree)')\n",
    "plt.xlabel('Number of Neighbors-K')\n",
    "plt.ylabel('Misclassification Error')\n",
    "plt.show()\n",
    "\n",
    "print(\"Misclassification error for each K: \",np.round(MSE,3))"
   ]
  },
  {
   "cell_type": "code",
   "execution_count": 196,
   "metadata": {},
   "outputs": [
    {
     "name": "stdout",
     "output_type": "stream",
     "text": [
      "Training Accuracy:  0.715\n",
      "Training Error:     0.28500000000000003\n",
      "Testing Accuracy:   0.685\n",
      "Testing Error:      0.31499999999999995\n"
     ]
    }
   ],
   "source": [
    "from sklearn.metrics import accuracy_score\n",
    "\n",
    "#Now will instantiate learning model with optimal K\n",
    "knn_optimal = KNeighborsClassifier(n_neighbors=optimal_k5,algorithm='kd_tree')\n",
    "#Fitting the model\n",
    "knn_optimal.fit(Kd_train_bow.todense(),B_train)\n",
    "#will predict the response on test data\n",
    "pred=knn_optimal.predict(Kd_test_bow.todense())\n",
    "\n",
    "#Evaluating accuracy now\n",
    "train_acc = knn_optimal.score(Kd_train_bow.todense(),B_train)\n",
    "train_err = 1 - train_acc\n",
    "test_acc  = accuracy_score(B_test,pred)\n",
    "test_err  = 1 - test_acc\n",
    "\n",
    "print(\"Training Accuracy: \",train_acc)\n",
    "print(\"Training Error:    \",train_err)\n",
    "print(\"Testing Accuracy:  \",test_acc)\n",
    "print(\"Testing Error:     \",test_err)"
   ]
  },
  {
   "cell_type": "code",
   "execution_count": 197,
   "metadata": {},
   "outputs": [
    {
     "data": {
      "text/plain": [
       "Text(0.5,1,'AUC - Error Plots W2V-Kdtree')"
      ]
     },
     "execution_count": 197,
     "metadata": {},
     "output_type": "execute_result"
    },
    {
     "data": {
      "image/png": "[encoded data removed]",
      "text/plain": [
       "<Figure size 432x288 with 1 Axes>"
      ]
     },
     "metadata": {},
     "output_type": "display_data"
    }
   ],
   "source": [
    "#https://www.programcreek.com/python/example/81207/sklearn.metrics.roc_curve\n",
    "#Will Plot the Area Under Curve(AUC)\n",
    "\n",
    "train_fpr,train_tpr,thresholds = roc_curve(B_train,knn_optimal.predict_proba(Kd_train_bow.todense())[:,1] )\n",
    "test_fpr,test_tpr,thresholds = roc_curve(B_test,knn_optimal.predict_proba(Kd_test_bow.todense())[:,1])\n",
    "plt.plot(train_fpr,train_tpr,label='Train-AUC :'+str(auc(train_fpr,train_tpr)))\n",
    "plt.plot(test_fpr,test_tpr,label='Test-Auc'+str(auc(test_fpr,test_tpr)))\n",
    "AUC5=str(auc(test_fpr,test_tpr))\n",
    "plt.legend()\n",
    "plt.xlabel(\"HyperParameter- K \")\n",
    "plt.ylabel(\"AUC\")\n",
    "plt.title(\"AUC - Error Plots W2V-Kdtree\")"
   ]
  },
  {
   "cell_type": "code",
   "execution_count": 198,
   "metadata": {},
   "outputs": [
    {
     "name": "stdout",
     "output_type": "stream",
     "text": [
      "Train Confusion Matrix - W2V (Kd-tree)\n",
      "[[608 197]\n",
      " [259 536]]\n",
      "Test Confusion Matrix - W2V (Kd-tree)\n",
      "[[145  50]\n",
      " [ 76 129]]\n"
     ]
    }
   ],
   "source": [
    "#Confusion Matrix\n",
    "from sklearn.metrics import confusion_matrix\n",
    "print(\"Train Confusion Matrix - W2V (Kd-tree)\")\n",
    "print(confusion_matrix(B_train,knn_optimal.predict(Kd_train_bow.todense())))\n",
    "print(\"Test Confusion Matrix - W2V (Kd-tree)\")\n",
    "print(confusion_matrix(B_test,knn_optimal.predict(Kd_test_bow.todense())))"
   ]
  },
  {
   "cell_type": "code",
   "execution_count": 199,
   "metadata": {},
   "outputs": [
    {
     "name": "stdout",
     "output_type": "stream",
     "text": [
      "             precision    recall  f1-score   support\n",
      "\n",
      "          0       0.66      0.74      0.70       195\n",
      "          1       0.72      0.63      0.67       205\n",
      "\n",
      "avg / total       0.69      0.69      0.68       400\n",
      "\n"
     ]
    }
   ],
   "source": [
    "#Classification Report:\n",
    "from sklearn.metrics import classification_report\n",
    "print(classification_report(B_test,pred))"
   ]
  },
  {
   "cell_type": "markdown",
   "metadata": {
    "colab_type": "text",
    "id": "kG-xYnK7DYNt"
   },
   "source": [
    "### [5.2.2] Applying KNN kd-tree on TFIDF,<font color='red'> SET 6</font>"
   ]
  },
  {
   "cell_type": "code",
   "execution_count": 184,
   "metadata": {
    "colab": {},
    "colab_type": "code",
    "id": "ffjRVz_iDYNu"
   },
   "outputs": [
    {
     "name": "stdout",
     "output_type": "stream",
     "text": [
      "Train-TfIdf:  (1600, 2276)\n",
      "CV-TfIDF:  (400, 2276)\n",
      "Test-TfIdf (400, 2276)\n"
     ]
    }
   ],
   "source": [
    "tf_idf_vect =TfidfVectorizer(ngram_range=(1,2),min_df=5,max_df=100)\n",
    "tf_idf_vect.fit(A_train)#fit ONLY on Train data\n",
    "Kd_train_tfidf=tf_idf_vect.transform(A_train)\n",
    "Kd_cv_tfidf=tf_idf_vect.transform(A_cv)\n",
    "Kd_test_tfidf=tf_idf_vect.transform(A_test)\n",
    "print(\"Train-TfIdf: \",Kd_train_tfidf.shape)\n",
    "print(\"CV-TfIDF: \",Kd_cv_tfidf.shape)\n",
    "print(\"Test-TfIdf\",Kd_test_tfidf.shape)"
   ]
  },
  {
   "cell_type": "code",
   "execution_count": 187,
   "metadata": {},
   "outputs": [
    {
     "name": "stderr",
     "output_type": "stream",
     "text": [
      "100%|██████████████████████████████████████████| 20/20 [04:53<00:00, 14.66s/it]\n"
     ]
    },
    {
     "data": {
      "image/png": "[encoded data removed]",
      "text/plain": [
       "<Figure size 432x288 with 1 Axes>"
      ]
     },
     "metadata": {},
     "output_type": "display_data"
    }
   ],
   "source": [
    "\n",
    "train_auc=[]\n",
    "cv_auc=[]\n",
    "K = list(range(1,400,20))\n",
    "for i in tqdm(K):\n",
    "    neigh = KNeighborsClassifier(n_neighbors=i,algorithm='kd_tree')\n",
    "    neigh.fit(Kd_train_tfidf.todense(),A_train)\n",
    "    B_train_pred= neigh.predict_proba(Kd_train_tfidf.todense())[:,1]\n",
    "    B_cv_pred = neigh.predict_proba(Kd_cv_tfidf.todense())[:,1]\n",
    "    #we append the predicted values to train_auc & cv_auc list\n",
    "    train_auc.append(roc_auc_score(B_train,B_train_pred)) #Train data predictions\n",
    "    cv_auc.append(roc_auc_score(B_cv,B_cv_pred)) #Cross Validation data predictions\n",
    "    \n",
    "#Will  plolt Error plots between Train and CV Data predictions\n",
    "plt.plot(K,train_auc,label='Train_AUC')\n",
    "plt.scatter(K,train_auc)\n",
    "plt.plot(K,cv_auc,label='CV_AUC')\n",
    "plt.scatter(K,cv_auc)\n",
    "plt.legend()\n",
    "plt.xlabel(\"K: HyperParamater\")\n",
    "plt.ylabel(\"AUC\")\n",
    "plt.title(\"Error Plots- TfIdf(Kd-Tree)\")\n",
    "plt.show()"
   ]
  },
  {
   "cell_type": "code",
   "execution_count": 188,
   "metadata": {},
   "outputs": [
    {
     "name": "stderr",
     "output_type": "stream",
     "text": [
      "100%|████████████████████████████████████████████| 6/6 [01:19<00:00, 13.27s/it]\n"
     ]
    }
   ],
   "source": [
    "#Based on the above plot we can see that optimal K lies between 30 - 80\n",
    "# we will calucalte cross-validation scores of k in range of 30-80\n",
    "from sklearn.model_selection import cross_val_score\n",
    "\n",
    "neighb = list(range(110,140,5))\n",
    "cv_score = []\n",
    "for i in tqdm(neighb):\n",
    "    knn=KNeighborsClassifier(n_neighbors=i,algorithm='kd_tree')\n",
    "    scores=cross_val_score(knn,Kd_train_tfidf.todense(),B_train,cv=10,scoring='accuracy')\n",
    "    cv_score.append(scores.mean())"
   ]
  },
  {
   "cell_type": "code",
   "execution_count": 189,
   "metadata": {},
   "outputs": [
    {
     "name": "stdout",
     "output_type": "stream",
     "text": [
      "Optimal-K:  125\n"
     ]
    },
    {
     "data": {
      "image/png": "[encoded data removed]",
      "text/plain": [
       "<Figure size 432x288 with 1 Axes>"
      ]
     },
     "metadata": {},
     "output_type": "display_data"
    },
    {
     "name": "stdout",
     "output_type": "stream",
     "text": [
      "Misclassification error for each K:  [0.204 0.203 0.204 0.199 0.2   0.2  ]\n"
     ]
    }
   ],
   "source": [
    "#Will calculate Misclassification Error\n",
    "MSE = [1 -x for x in cv_score]\n",
    "optimal_k6=neighb[MSE.index(min(MSE))]\n",
    "print(\"Optimal-K: \",optimal_k6)\n",
    "\n",
    "#Plotting Misclassification vs K\n",
    "plt.plot(neighb,MSE)\n",
    "plt.title('K-Numb of neighbors and Misclasiification Error - BoW(Kd-tree)')\n",
    "plt.xlabel('Number of Neighbors-K')\n",
    "plt.ylabel('Misclassification Error')\n",
    "plt.show()\n",
    "\n",
    "print(\"Misclassification error for each K: \",np.round(MSE,3))"
   ]
  },
  {
   "cell_type": "code",
   "execution_count": 190,
   "metadata": {},
   "outputs": [
    {
     "name": "stdout",
     "output_type": "stream",
     "text": [
      "Optimal-K:  125\n"
     ]
    },
    {
     "data": {
      "image/png": "[encoded data removed]",
      "text/plain": [
       "<Figure size 432x288 with 1 Axes>"
      ]
     },
     "metadata": {},
     "output_type": "display_data"
    },
    {
     "name": "stdout",
     "output_type": "stream",
     "text": [
      "Misclassification error for each K:  [0.204 0.203 0.204 0.199 0.2   0.2  ]\n"
     ]
    }
   ],
   "source": [
    "#Will calculate Misclassification Error\n",
    "MSE = [1 -x for x in cv_score]\n",
    "optimal_k6=neighb[MSE.index(min(MSE))]\n",
    "print(\"Optimal-K: \",optimal_k6)\n",
    "\n",
    "#Plotting Misclassification vs K\n",
    "plt.plot(neighb,MSE)\n",
    "plt.title('K-Numb of neighbors and Misclasiification Error - BoW(Kd-tree)')\n",
    "plt.xlabel('Number of Neighbors-K')\n",
    "plt.ylabel('Misclassification Error')\n",
    "plt.show()\n",
    "\n",
    "print(\"Misclassification error for each K: \",np.round(MSE,3))"
   ]
  },
  {
   "cell_type": "code",
   "execution_count": 191,
   "metadata": {},
   "outputs": [
    {
     "name": "stdout",
     "output_type": "stream",
     "text": [
      "Training Accuracy:  0.824375\n",
      "Training Error:     0.17562500000000003\n",
      "Testing Accuracy:   0.8125\n",
      "Testing Error:      0.1875\n"
     ]
    }
   ],
   "source": [
    "from sklearn.metrics import accuracy_score\n",
    "\n",
    "#Now will instantiate learning model with optimal K\n",
    "knn_optimal = KNeighborsClassifier(n_neighbors=optimal_k6,algorithm='kd_tree')\n",
    "#Fitting the model\n",
    "knn_optimal.fit(Kd_train_tfidf.todense(),B_train)\n",
    "#will predict the response on test data\n",
    "pred=knn_optimal.predict(Kd_test_tfidf.todense())\n",
    "\n",
    "#Evaluating accuracy now\n",
    "train_acc = knn_optimal.score(Kd_train_tfidf.todense(),B_train)\n",
    "train_err = 1 - train_acc\n",
    "test_acc  = accuracy_score(B_test,pred)\n",
    "test_err  = 1 - test_acc\n",
    "\n",
    "print(\"Training Accuracy: \",train_acc)\n",
    "print(\"Training Error:    \",train_err)\n",
    "print(\"Testing Accuracy:  \",test_acc)\n",
    "print(\"Testing Error:     \",test_err)"
   ]
  },
  {
   "cell_type": "code",
   "execution_count": 193,
   "metadata": {},
   "outputs": [
    {
     "data": {
      "text/plain": [
       "Text(0.5,1,'AUC - Error Plots Kdtree')"
      ]
     },
     "execution_count": 193,
     "metadata": {},
     "output_type": "execute_result"
    },
    {
     "data": {
      "image/png": "[encoded data removed]",
      "text/plain": [
       "<Figure size 432x288 with 1 Axes>"
      ]
     },
     "metadata": {},
     "output_type": "display_data"
    }
   ],
   "source": [
    "#https://www.programcreek.com/python/example/81207/sklearn.metrics.roc_curve\n",
    "#Will Plot the Area Under Curve(AUC)\n",
    "\n",
    "train_fpr,train_tpr,thresholds = roc_curve(B_train,knn_optimal.predict_proba(Kd_train_tfidf.todense())[:,1] )\n",
    "test_fpr,test_tpr,thresholds = roc_curve(B_test,knn_optimal.predict_proba(Kd_test_tfidf.todense())[:,1])\n",
    "plt.plot(train_fpr,train_tpr,label='Train-AUC :'+str(auc(train_fpr,train_tpr)))\n",
    "plt.plot(test_fpr,test_tpr,label='Test-Auc'+str(auc(test_fpr,test_tpr)))\n",
    "AUC6=str(auc(test_fpr,test_tpr))\n",
    "plt.legend()\n",
    "plt.xlabel(\"HyperParameter- K \")\n",
    "plt.ylabel(\"AUC\")\n",
    "plt.title(\"AUC - Error Plots Kdtree\")"
   ]
  },
  {
   "cell_type": "code",
   "execution_count": 194,
   "metadata": {},
   "outputs": [
    {
     "name": "stdout",
     "output_type": "stream",
     "text": [
      "Train Confusion Matrix - (Kd-tree)\n",
      "[[652 153]\n",
      " [128 667]]\n",
      "Test Confusion Matrix -  (Kd-tree)\n",
      "[[147  48]\n",
      " [ 27 178]]\n"
     ]
    }
   ],
   "source": [
    "#Confusion Matrix\n",
    "from sklearn.metrics import confusion_matrix\n",
    "print(\"Train Confusion Matrix - (Kd-tree)\")\n",
    "print(confusion_matrix(B_train,knn_optimal.predict(Kd_train_tfidf.todense())))\n",
    "print(\"Test Confusion Matrix -  (Kd-tree)\")\n",
    "print(confusion_matrix(B_test,knn_optimal.predict(Kd_test_tfidf.todense())))"
   ]
  },
  {
   "cell_type": "code",
   "execution_count": 195,
   "metadata": {},
   "outputs": [
    {
     "name": "stdout",
     "output_type": "stream",
     "text": [
      "             precision    recall  f1-score   support\n",
      "\n",
      "          0       0.84      0.75      0.80       195\n",
      "          1       0.79      0.87      0.83       205\n",
      "\n",
      "avg / total       0.82      0.81      0.81       400\n",
      "\n"
     ]
    }
   ],
   "source": [
    "#Classification Report:\n",
    "from sklearn.metrics import classification_report\n",
    "print(classification_report(B_test,pred))"
   ]
  },
  {
   "cell_type": "markdown",
   "metadata": {
    "colab_type": "text",
    "id": "ddU0dZI0DYNx"
   },
   "source": [
    "### [5.2.3] Applying KNN kd-tree on AVG W2V,<font color='red'> SET 3</font>"
   ]
  },
  {
   "cell_type": "code",
   "execution_count": 200,
   "metadata": {
    "colab": {},
    "colab_type": "code",
    "id": "YAl6PXWcDYNy"
   },
   "outputs": [
    {
     "name": "stderr",
     "output_type": "stream",
     "text": [
      "WARNING:gensim.models.base_any2vec:consider setting layer size to a multiple of 4 for greater performance\n"
     ]
    },
    {
     "name": "stdout",
     "output_type": "stream",
     "text": [
      "number of words that occured minimum 5 times  5695\n",
      "sample words  ['far', 'dog', 'not', 'interested', 'toy', 'sure', 'going', 'concept', 'great', 'guess', 'gotta', 'actually', 'likes', 'work', 'maybe', 'show', 'interest', 'later', 'new', 'toys', 'call', 'product', 'licorice', 'taste', 'gave', 'gas', 'returns', 'says', 'no', 'stuck', 'horrible', 'tasting', 'black', 'bears', 'one', 'review', 'lacking', 'sense', 'buying', 'vine', 'brand', 'throw', 'sugar', 'free', 'trash', 'bin', 'tastes', 'made', 'without', 'eggs']\n"
     ]
    }
   ],
   "source": [
    "# Please write all the code with proper documentation\n",
    "i=0\n",
    "list_of_sentance_train=[]\n",
    "for sentance in X_train:\n",
    "    list_of_sentance_train.append(sentance.split())\n",
    "#will train our w2v model using the sentences in our train_data\n",
    "w2v_model=Word2Vec(list_of_sentance_train,min_count=5,size=50,workers=4)\n",
    "w2v_words = list(w2v_model.wv.vocab)\n",
    "print(\"number of words that occured minimum 5 times \",len(w2v_words))\n",
    "print(\"sample words \", w2v_words[0:50])"
   ]
  },
  {
   "cell_type": "code",
   "execution_count": 201,
   "metadata": {},
   "outputs": [
    {
     "name": "stderr",
     "output_type": "stream",
     "text": [
      "100%|█████████████████████████████████████| 8000/8000 [00:15<00:00, 510.01it/s]\n"
     ]
    },
    {
     "name": "stdout",
     "output_type": "stream",
     "text": [
      "(8000, 50)\n",
      "[ 0.10746644 -0.10364664  0.69517414 -0.32393196  0.64422422  0.18668117\n",
      " -0.15057675  0.33395679 -0.49875018  0.44325304 -0.36215763  0.41739563\n",
      "  0.34131813 -0.30266647 -1.0955833   0.42741713 -0.26353696  0.05928877\n",
      "  0.55499524  0.53729429 -0.32341965  0.19727824 -0.15882084  0.14895062\n",
      " -0.90330084 -0.11297558  0.12938059  0.53768597 -0.14767169  0.19102479\n",
      " -0.12138587  0.43090359 -0.14195529  0.11691437  0.18628504  0.6003554\n",
      "  0.38327763  0.12898771  0.49888377 -0.03912008 -0.04066646  0.20396916\n",
      " -0.14101064 -0.08370291  0.24019422  0.31584122 -0.60203988  0.20410701\n",
      " -0.12022534  0.26427645]\n"
     ]
    }
   ],
   "source": [
    "# average Word2Vec\n",
    "# compute average word2vec for each review.\n",
    "sent_vectors_train = []; # the avg-w2v for each sentence/review is stored in this list\n",
    "for sent in tqdm(list_of_sentance_train): # for each review/sentence\n",
    "    sent_vec = np.zeros(50) # as word vectors are of zero length 50, you might need to change this to 300 if you use google's w2v\n",
    "    cnt_words =0; # num of words with a valid vector in the sentence/review\n",
    "    for word in sent: # for each word in a review/sentence\n",
    "        if word in w2v_words:\n",
    "            vec = w2v_model.wv[word]\n",
    "            sent_vec += vec\n",
    "            cnt_words += 1\n",
    "    if cnt_words != 0:\n",
    "        sent_vec /= cnt_words\n",
    "    sent_vectors_train.append(sent_vec)\n",
    "sent_vectors_train = np.array(sent_vectors_train)\n",
    "print(sent_vectors_train.shape)\n",
    "print(sent_vectors_train[0])"
   ]
  },
  {
   "cell_type": "code",
   "execution_count": 202,
   "metadata": {},
   "outputs": [
    {
     "name": "stderr",
     "output_type": "stream",
     "text": [
      "100%|█████████████████████████████████████| 2000/2000 [00:03<00:00, 525.18it/s]\n"
     ]
    },
    {
     "name": "stdout",
     "output_type": "stream",
     "text": [
      "(2000, 50)\n",
      "[ 0.13532551 -0.16277947  0.55143809 -0.31362831  0.66809325  0.0190743\n",
      "  0.01317279  0.37817624 -0.6090533   0.51910429 -0.36624168  0.31794019\n",
      "  0.16263953 -0.4607444  -0.72904371  0.34156161 -0.23695289  0.03351267\n",
      "  0.87254602  0.50315643 -0.24973179  0.10657983 -0.32085222 -0.05408672\n",
      " -0.76056469 -0.24669665  0.20718289  0.43590597 -0.29509678  0.27853439\n",
      "  0.07225133  0.53255024 -0.24591978  0.11318636  0.2126896   0.5216273\n",
      "  0.19542684  0.00874024  0.33390222 -0.11986117  0.15819619  0.34817109\n",
      "  0.01297902 -0.35308589  0.14578385  0.34627122 -0.39360132  0.30776837\n",
      " -0.14456737  0.50542834]\n"
     ]
    }
   ],
   "source": [
    "i=0\n",
    "list_of_sentance_cv=[]\n",
    "for sentance in X_cv:\n",
    "    list_of_sentance_cv.append(sentance.split())\n",
    "# average Word2Vec\n",
    "# compute average word2vec for each review.\n",
    "sent_vectors_cv = []; # the avg-w2v for each sentence/review is stored in this list\n",
    "for sent in tqdm(list_of_sentance_cv): # for each review/sentence\n",
    "    sent_vec = np.zeros(50) # as word vectors are of zero length 50, you might need to change this to 300 if you use google's w2v\n",
    "    cnt_words =0; # num of words with a valid vector in the sentence/review\n",
    "    for word in sent: # for each word in a review/sentence\n",
    "        if word in w2v_words:\n",
    "            vec = w2v_model.wv[word]\n",
    "            sent_vec += vec\n",
    "            cnt_words += 1\n",
    "    if cnt_words != 0:\n",
    "        sent_vec /= cnt_words\n",
    "    sent_vectors_cv.append(sent_vec)\n",
    "sent_vectors_cv = np.array(sent_vectors_cv)\n",
    "print(sent_vectors_cv.shape)\n",
    "print(sent_vectors_cv[0])"
   ]
  },
  {
   "cell_type": "code",
   "execution_count": 203,
   "metadata": {},
   "outputs": [
    {
     "name": "stderr",
     "output_type": "stream",
     "text": [
      "100%|█████████████████████████████████████| 2000/2000 [00:03<00:00, 535.44it/s]\n"
     ]
    },
    {
     "name": "stdout",
     "output_type": "stream",
     "text": [
      "(2000, 50)\n",
      "[ 0.13532551 -0.16277947  0.55143809 -0.31362831  0.66809325  0.0190743\n",
      "  0.01317279  0.37817624 -0.6090533   0.51910429 -0.36624168  0.31794019\n",
      "  0.16263953 -0.4607444  -0.72904371  0.34156161 -0.23695289  0.03351267\n",
      "  0.87254602  0.50315643 -0.24973179  0.10657983 -0.32085222 -0.05408672\n",
      " -0.76056469 -0.24669665  0.20718289  0.43590597 -0.29509678  0.27853439\n",
      "  0.07225133  0.53255024 -0.24591978  0.11318636  0.2126896   0.5216273\n",
      "  0.19542684  0.00874024  0.33390222 -0.11986117  0.15819619  0.34817109\n",
      "  0.01297902 -0.35308589  0.14578385  0.34627122 -0.39360132  0.30776837\n",
      " -0.14456737  0.50542834]\n"
     ]
    }
   ],
   "source": [
    "i=0\n",
    "list_of_sentance_test=[]\n",
    "for sentance in X_test:\n",
    "    list_of_sentance_test.append(sentance.split())\n",
    "# average Word2Vec\n",
    "# compute average word2vec for each review.\n",
    "sent_vectors_test = []; # the avg-w2v for each sentence/review is stored in this list\n",
    "for sent in tqdm(list_of_sentance_test): # for each review/sentence\n",
    "    sent_vec = np.zeros(50) # as word vectors are of zero length 50, you might need to change this to 300 if you use google's w2v\n",
    "    cnt_words =0; # num of words with a valid vector in the sentence/review\n",
    "    for word in sent: # for each word in a review/sentence\n",
    "        if word in w2v_words:\n",
    "            vec = w2v_model.wv[word]\n",
    "            sent_vec += vec\n",
    "            cnt_words += 1\n",
    "    if cnt_words != 0:\n",
    "        sent_vec /= cnt_words\n",
    "    sent_vectors_test.append(sent_vec)\n",
    "sent_vectors_test = np.array(sent_vectors_test)\n",
    "print(sent_vectors_test.shape)\n",
    "print(sent_vectors_test[0])"
   ]
  },
  {
   "cell_type": "code",
   "execution_count": 204,
   "metadata": {},
   "outputs": [
    {
     "name": "stderr",
     "output_type": "stream",
     "text": [
      "100%|██████████████████████████████████████████| 20/20 [02:45<00:00,  8.29s/it]\n"
     ]
    },
    {
     "data": {
      "image/png": "[encoded data removed]",
      "text/plain": [
       "<Figure size 432x288 with 1 Axes>"
      ]
     },
     "metadata": {},
     "output_type": "display_data"
    }
   ],
   "source": [
    "\n",
    "train_auc=[]\n",
    "cv_auc=[]\n",
    "K = list(range(1,200,10))\n",
    "for i in tqdm(K):\n",
    "    neigh = KNeighborsClassifier(n_neighbors=i,algorithm='kd_tree')\n",
    "    neigh.fit(sent_vectors_train,Y_train)\n",
    "    Y_train_pred= neigh.predict_proba(sent_vectors_train)[:,1]\n",
    "    Y_cv_pred = neigh.predict_proba(sent_vectors_cv)[:,1]\n",
    "    #we append the predicted values to train_auc & cv_auc list\n",
    "    train_auc.append(roc_auc_score(Y_train,Y_train_pred)) #Train data predictions\n",
    "    cv_auc.append(roc_auc_score(Y_cv,Y_cv_pred)) #Cross Validation data predictions\n",
    "    \n",
    "#Will  plolt Error plots between Train and CV Data predictions\n",
    "plt.plot(K,train_auc,label='Train_AUC')\n",
    "plt.scatter(K,train_auc)\n",
    "plt.plot(K,cv_auc,label='CV_AUC')\n",
    "plt.scatter(K,cv_auc)\n",
    "plt.legend()\n",
    "plt.xlabel(\"K: HyperParamater \")\n",
    "plt.ylabel(\"AUC\")\n",
    "plt.title(\"Error Plots\")\n",
    "plt.show()"
   ]
  },
  {
   "cell_type": "code",
   "execution_count": 206,
   "metadata": {},
   "outputs": [
    {
     "name": "stderr",
     "output_type": "stream",
     "text": [
      "100%|████████████████████████████████████████████| 6/6 [00:24<00:00,  4.09s/it]\n"
     ]
    }
   ],
   "source": [
    "#Based on the above plot we can see that optimal K lies between 10 - 40\n",
    "# we will calucalte cross-validation scores of k in range of 10-40\n",
    "from sklearn.model_selection import cross_val_score\n",
    "\n",
    "neighb = list(range(10,40,5))\n",
    "cv_score = []\n",
    "for i in tqdm(neighb):\n",
    "    knn=KNeighborsClassifier(n_neighbors=i,algorithm='kd_tree')\n",
    "    scores=cross_val_score(knn,sent_vectors_train,Y_train,cv=10,scoring='accuracy')\n",
    "    cv_score.append(scores.mean())"
   ]
  },
  {
   "cell_type": "code",
   "execution_count": 207,
   "metadata": {},
   "outputs": [
    {
     "name": "stdout",
     "output_type": "stream",
     "text": [
      "Optimal-K:  35\n"
     ]
    },
    {
     "data": {
      "image/png": "[encoded data removed]",
      "text/plain": [
       "<Figure size 432x288 with 1 Axes>"
      ]
     },
     "metadata": {},
     "output_type": "display_data"
    },
    {
     "name": "stdout",
     "output_type": "stream",
     "text": [
      "Misclassification error for each K:  [0.37  0.359 0.357 0.353 0.353 0.349]\n"
     ]
    }
   ],
   "source": [
    "#Will calculate Misclassification Error\n",
    "MSE = [1 -x for x in cv_score]\n",
    "optimal_k7=neighb[MSE.index(min(MSE))]\n",
    "print(\"Optimal-K: \",optimal_k7)\n",
    "\n",
    "#Plotting Misclassification vs K\n",
    "plt.plot(neighb,MSE)\n",
    "plt.title('K-Numb of neighbors and Misclasiification Error')\n",
    "plt.xlabel('Number of Neighbors-K')\n",
    "plt.ylabel('Misclassification Error')\n",
    "plt.show()\n",
    "\n",
    "print(\"Misclassification error for each K: \",np.round(MSE,3))"
   ]
  },
  {
   "cell_type": "code",
   "execution_count": 208,
   "metadata": {},
   "outputs": [
    {
     "name": "stdout",
     "output_type": "stream",
     "text": [
      "Training Accuracy:  0.6785\n",
      "Training Error:     0.3215\n",
      "Testing Accuracy:   0.64\n",
      "Testing Error:      0.36\n"
     ]
    }
   ],
   "source": [
    "from sklearn.metrics import accuracy_score\n",
    "\n",
    "#Now will instantiate learning model with optimal K\n",
    "knn_optimal = KNeighborsClassifier(n_neighbors=optimal_k7,algorithm='kd_tree')\n",
    "#Fitting the model\n",
    "knn_optimal.fit(sent_vectors_train,Y_train)\n",
    "#will predict the response on test data\n",
    "pred=knn_optimal.predict(sent_vectors_test)\n",
    "\n",
    "#Evaluating accuracy now\n",
    "train_acc = knn_optimal.score(sent_vectors_train,Y_train)\n",
    "train_err = 1 - train_acc\n",
    "test_acc  = accuracy_score(Y_test,pred)\n",
    "test_err  = 1 - test_acc\n",
    "\n",
    "print(\"Training Accuracy: \",train_acc)\n",
    "print(\"Training Error:    \",train_err)\n",
    "print(\"Testing Accuracy:  \",test_acc)\n",
    "print(\"Testing Error:     \",test_err)"
   ]
  },
  {
   "cell_type": "code",
   "execution_count": 209,
   "metadata": {},
   "outputs": [
    {
     "data": {
      "text/plain": [
       "Text(0.5,1,'AUC - Error Plots Avg W2V')"
      ]
     },
     "execution_count": 209,
     "metadata": {},
     "output_type": "execute_result"
    },
    {
     "data": {
      "image/png": "[encoded data removed]",
      "text/plain": [
       "<Figure size 432x288 with 1 Axes>"
      ]
     },
     "metadata": {},
     "output_type": "display_data"
    }
   ],
   "source": [
    "#https://www.programcreek.com/python/example/81207/sklearn.metrics.roc_curve\n",
    "#Will Plot the Area Under Curve(AUC)\n",
    "\n",
    "train_fpr,train_tpr,thresholds = roc_curve(Y_train,knn_optimal.predict_proba(sent_vectors_train)[:,1] )\n",
    "test_fpr,test_tpr,thresholds = roc_curve(Y_test,knn_optimal.predict_proba(sent_vectors_test)[:,1])\n",
    "plt.plot(train_fpr,train_tpr,label='Train-AUC :'+str(auc(train_fpr,train_tpr)))\n",
    "plt.plot(test_fpr,test_tpr,label='Test-Auc'+str(auc(test_fpr,test_tpr)))\n",
    "AUC7=str(auc(test_fpr,test_tpr))\n",
    "plt.legend()\n",
    "plt.xlabel(\"HyperParameter- K \")\n",
    "plt.ylabel(\"AUC\")\n",
    "plt.title(\"AUC - Error Plots Avg W2V\")\n"
   ]
  },
  {
   "cell_type": "code",
   "execution_count": 210,
   "metadata": {},
   "outputs": [
    {
     "name": "stdout",
     "output_type": "stream",
     "text": [
      "Train Confusion Matrix -Avg W2V (Kd-Tree)\n",
      "[[2871 1117]\n",
      " [1455 2557]]\n",
      "Test Confusion Matrix - Avg W2V (Kd-Tree)\n",
      "[[703 309]\n",
      " [411 577]]\n"
     ]
    }
   ],
   "source": [
    "#Confusion Matrix\n",
    "from sklearn.metrics import confusion_matrix\n",
    "print(\"Train Confusion Matrix -Avg W2V (Kd-Tree)\")\n",
    "print(confusion_matrix(Y_train,knn_optimal.predict(sent_vectors_train)))\n",
    "print(\"Test Confusion Matrix - Avg W2V (Kd-Tree)\")\n",
    "print(confusion_matrix(Y_test,knn_optimal.predict(sent_vectors_test)))"
   ]
  },
  {
   "cell_type": "code",
   "execution_count": 211,
   "metadata": {},
   "outputs": [
    {
     "name": "stdout",
     "output_type": "stream",
     "text": [
      "             precision    recall  f1-score   support\n",
      "\n",
      "          0       0.63      0.69      0.66      1012\n",
      "          1       0.65      0.58      0.62       988\n",
      "\n",
      "avg / total       0.64      0.64      0.64      2000\n",
      "\n"
     ]
    }
   ],
   "source": [
    "#Classification Report:\n",
    "from sklearn.metrics import classification_report\n",
    "print(classification_report(Y_test,pred))"
   ]
  },
  {
   "cell_type": "markdown",
   "metadata": {
    "colab_type": "text",
    "id": "IQUILTzFDYN0"
   },
   "source": [
    "### [5.2.4] Applying KNN kd-tree on TFIDF W2V,<font color='red'> SET 4</font>"
   ]
  },
  {
   "cell_type": "code",
   "execution_count": 212,
   "metadata": {
    "colab": {},
    "colab_type": "code",
    "id": "vNmmBe5hDYN1"
   },
   "outputs": [],
   "source": [
    "# Please write all the code with proper documentation\n",
    "# S = [\"abc def pqr\", \"def def def abc\", \"pqr pqr def\"]\n",
    "model = TfidfVectorizer()\n",
    "model.fit(X_train)\n",
    "# we are converting a dictionary with word as a key, and the idf as a value\n",
    "dictionary = dict(zip(model.get_feature_names(), list(model.idf_)))\n"
   ]
  },
  {
   "cell_type": "code",
   "execution_count": 213,
   "metadata": {},
   "outputs": [
    {
     "name": "stderr",
     "output_type": "stream",
     "text": [
      "100%|██████████████████████████████████████| 8000/8000 [01:38<00:00, 81.52it/s]\n"
     ]
    }
   ],
   "source": [
    "# TF-IDF weighted Word2Vec\n",
    "tfidf_feat = model.get_feature_names() # tfidf words/col-names\n",
    "# final_tf_idf is the sparse matrix with row= sentence, col=word and cell_val = tfidf\n",
    "\n",
    "tfidf_sent_vectors_train = []; # the tfidf-w2v for each sentence/review is stored in this list\n",
    "row=0;\n",
    "for sent in tqdm(list_of_sentance_train): # for each review/sentence \n",
    "    sent_vec = np.zeros(50) # as word vectors are of zero length\n",
    "    weight_sum =0; # num of words with a valid vector in the sentence/review\n",
    "    for word in sent: # for each word in a review/sentence\n",
    "        if word in w2v_words and word in tfidf_feat:\n",
    "            vec = w2v_model.wv[word]\n",
    "#             tf_idf = tf_idf_matrix[row, tfidf_feat.index(word)]\n",
    "            # to reduce the computation we are \n",
    "            # dictionary[word] = idf value of word in whole courpus\n",
    "            # sent.count(word) = tf valeus of word in this review\n",
    "            tf_idf = dictionary[word]*(sent.count(word)/len(sent))\n",
    "            sent_vec += (vec * tf_idf)\n",
    "            weight_sum += tf_idf\n",
    "    if weight_sum != 0:\n",
    "        sent_vec /= weight_sum\n",
    "    tfidf_sent_vectors_train.append(sent_vec)\n",
    "    row += 1"
   ]
  },
  {
   "cell_type": "code",
   "execution_count": 214,
   "metadata": {},
   "outputs": [
    {
     "name": "stderr",
     "output_type": "stream",
     "text": [
      "100%|██████████████████████████████████████| 2000/2000 [00:25<00:00, 79.21it/s]\n"
     ]
    }
   ],
   "source": [
    "# TF-IDF weighted Word2Vec\n",
    "tfidf_feat = model.get_feature_names() # tfidf words/col-names\n",
    "# final_tf_idf is the sparse matrix with row= sentence, col=word and cell_val = tfidf\n",
    "\n",
    "tfidf_sent_vectors_cv = []; # the tfidf-w2v for each sentence/review is stored in this list\n",
    "row=0;\n",
    "for sent in tqdm(list_of_sentance_cv): # for each review/sentence \n",
    "    sent_vec = np.zeros(50) # as word vectors are of zero length\n",
    "    weight_sum =0; # num of words with a valid vector in the sentence/review\n",
    "    for word in sent: # for each word in a review/sentence\n",
    "        if word in w2v_words and word in tfidf_feat:\n",
    "            vec = w2v_model.wv[word]\n",
    "#             tf_idf = tf_idf_matrix[row, tfidf_feat.index(word)]\n",
    "            # to reduce the computation we are \n",
    "            # dictionary[word] = idf value of word in whole courpus\n",
    "            # sent.count(word) = tf valeus of word in this review\n",
    "            tf_idf = dictionary[word]*(sent.count(word)/len(sent))\n",
    "            sent_vec += (vec * tf_idf)\n",
    "            weight_sum += tf_idf\n",
    "    if weight_sum != 0:\n",
    "        sent_vec /= weight_sum\n",
    "    tfidf_sent_vectors_cv.append(sent_vec)\n",
    "    row += 1"
   ]
  },
  {
   "cell_type": "code",
   "execution_count": 215,
   "metadata": {},
   "outputs": [
    {
     "name": "stderr",
     "output_type": "stream",
     "text": [
      "100%|██████████████████████████████████████| 2000/2000 [00:24<00:00, 80.55it/s]\n"
     ]
    }
   ],
   "source": [
    "# TF-IDF weighted Word2Vec\n",
    "tfidf_feat = model.get_feature_names() # tfidf words/col-names\n",
    "# final_tf_idf is the sparse matrix with row= sentence, col=word and cell_val = tfidf\n",
    "\n",
    "tfidf_sent_vectors_test = []; # the tfidf-w2v for each sentence/review is stored in this list\n",
    "row=0;\n",
    "for sent in tqdm(list_of_sentance_test): # for each review/sentence \n",
    "    sent_vec = np.zeros(50) # as word vectors are of zero length\n",
    "    weight_sum =0; # num of words with a valid vector in the sentence/review\n",
    "    for word in sent: # for each word in a review/sentence\n",
    "        if word in w2v_words and word in tfidf_feat:\n",
    "            vec = w2v_model.wv[word]\n",
    "#             tf_idf = tf_idf_matrix[row, tfidf_feat.index(word)]\n",
    "            # to reduce the computation we are \n",
    "            # dictionary[word] = idf value of word in whole courpus\n",
    "            # sent.count(word) = tf valeus of word in this review\n",
    "            tf_idf = dictionary[word]*(sent.count(word)/len(sent))\n",
    "            sent_vec += (vec * tf_idf)\n",
    "            weight_sum += tf_idf\n",
    "    if weight_sum != 0:\n",
    "        sent_vec /= weight_sum\n",
    "    tfidf_sent_vectors_test.append(sent_vec)\n",
    "    row += 1"
   ]
  },
  {
   "cell_type": "code",
   "execution_count": 216,
   "metadata": {},
   "outputs": [
    {
     "name": "stderr",
     "output_type": "stream",
     "text": [
      "100%|██████████████████████████████████████████| 20/20 [02:32<00:00,  7.63s/it]\n"
     ]
    },
    {
     "data": {
      "image/png": "[encoded data removed]",
      "text/plain": [
       "<Figure size 432x288 with 1 Axes>"
      ]
     },
     "metadata": {},
     "output_type": "display_data"
    }
   ],
   "source": [
    "train_auc=[]\n",
    "cv_auc=[]\n",
    "K = list(range(1,200,10))\n",
    "for i in tqdm(K):\n",
    "    neigh = KNeighborsClassifier(n_neighbors=i,algorithm='kd_tree')\n",
    "    neigh.fit(tfidf_sent_vectors_train,Y_train)\n",
    "    Y_train_pred= neigh.predict_proba(tfidf_sent_vectors_train)[:,1]\n",
    "    Y_cv_pred = neigh.predict_proba(tfidf_sent_vectors_cv)[:,1]\n",
    "    #we append the predicted values to train_auc & cv_auc list\n",
    "    train_auc.append(roc_auc_score(Y_train,Y_train_pred)) #Train data predictions\n",
    "    cv_auc.append(roc_auc_score(Y_cv,Y_cv_pred)) #Cross Validation data predictions\n",
    "    \n",
    "#Will  plolt Error plots between Train and CV Data predictions\n",
    "plt.plot(K,train_auc,label='Train_AUC')\n",
    "plt.scatter(K,train_auc)\n",
    "plt.plot(K,cv_auc,label='CV_AUC')\n",
    "plt.scatter(K,cv_auc)\n",
    "plt.legend()\n",
    "plt.xlabel(\"K: HyperParamater \")\n",
    "plt.ylabel(\"AUC\")\n",
    "plt.title(\"Error Plots\")\n",
    "plt.show()"
   ]
  },
  {
   "cell_type": "code",
   "execution_count": 217,
   "metadata": {},
   "outputs": [
    {
     "name": "stderr",
     "output_type": "stream",
     "text": [
      "100%|████████████████████████████████████████████| 6/6 [00:30<00:00,  5.15s/it]\n"
     ]
    }
   ],
   "source": [
    "# we will calucalte cross-validation scores of k in range of 35-75\n",
    "from sklearn.model_selection import cross_val_score\n",
    "\n",
    "neighb = list(range(20,50,5))\n",
    "cv_score = []\n",
    "for i in tqdm(neighb):\n",
    "    knn=KNeighborsClassifier(n_neighbors=i,algorithm='kd_tree')\n",
    "    scores=cross_val_score(knn,tfidf_sent_vectors_train,Y_train,cv=10,scoring='accuracy')\n",
    "    cv_score.append(scores.mean())"
   ]
  },
  {
   "cell_type": "code",
   "execution_count": 218,
   "metadata": {},
   "outputs": [
    {
     "name": "stdout",
     "output_type": "stream",
     "text": [
      "Optimal-K:  20\n"
     ]
    },
    {
     "data": {
      "image/png": "[encoded data removed]",
      "text/plain": [
       "<Figure size 432x288 with 1 Axes>"
      ]
     },
     "metadata": {},
     "output_type": "display_data"
    },
    {
     "name": "stdout",
     "output_type": "stream",
     "text": [
      "Misclassification error for each K:  [0.376 0.377 0.378 0.378 0.379 0.377]\n"
     ]
    }
   ],
   "source": [
    "#Will calculate Misclassification Error\n",
    "MSE = [1 -x for x in cv_score]\n",
    "optimal_k8=neighb[MSE.index(min(MSE))]\n",
    "print(\"Optimal-K: \",optimal_k8)\n",
    "\n",
    "#Plotting Misclassification vs K\n",
    "plt.plot(neighb,MSE)\n",
    "plt.title('K-Numb of neighbors and Misclasiification Error')\n",
    "plt.xlabel('Number of Neighbors-K')\n",
    "plt.ylabel('Misclassification Error')\n",
    "plt.show()\n",
    "\n",
    "print(\"Misclassification error for each K: \",np.round(MSE,3))"
   ]
  },
  {
   "cell_type": "code",
   "execution_count": 219,
   "metadata": {},
   "outputs": [
    {
     "name": "stdout",
     "output_type": "stream",
     "text": [
      "Training Accuracy:  0.677625\n",
      "Training Error:     0.32237499999999997\n",
      "Testing Accuracy:   0.6145\n",
      "Testing Error:      0.38549999999999995\n"
     ]
    }
   ],
   "source": [
    "from sklearn.metrics import accuracy_score\n",
    "\n",
    "#Now will instantiate learning model with optimal K\n",
    "knn_optimal = KNeighborsClassifier(n_neighbors=optimal_k8,algorithm='kd_tree')\n",
    "#Fitting the model\n",
    "knn_optimal.fit(tfidf_sent_vectors_train,Y_train)\n",
    "#will predict the response on test data\n",
    "pred=knn_optimal.predict(tfidf_sent_vectors_test)\n",
    "\n",
    "#Evaluating accuracy now\n",
    "train_acc = knn_optimal.score(tfidf_sent_vectors_train,Y_train)\n",
    "train_err = 1 - train_acc\n",
    "test_acc  = accuracy_score(Y_test,pred)\n",
    "test_err  = 1 - test_acc\n",
    "\n",
    "print(\"Training Accuracy: \",train_acc)\n",
    "print(\"Training Error:    \",train_err)\n",
    "print(\"Testing Accuracy:  \",test_acc)\n",
    "print(\"Testing Error:     \",test_err)"
   ]
  },
  {
   "cell_type": "code",
   "execution_count": 220,
   "metadata": {},
   "outputs": [
    {
     "data": {
      "text/plain": [
       "Text(0.5,1,'AUC - Error Plots')"
      ]
     },
     "execution_count": 220,
     "metadata": {},
     "output_type": "execute_result"
    },
    {
     "data": {
      "image/png": "[encoded data removed]",
      "text/plain": [
       "<Figure size 432x288 with 1 Axes>"
      ]
     },
     "metadata": {},
     "output_type": "display_data"
    }
   ],
   "source": [
    "#https://www.programcreek.com/python/example/81207/sklearn.metrics.roc_curve\n",
    "#Will Plot the Area Under Curve(AUC)\n",
    "\n",
    "train_fpr,train_tpr,thresholds = roc_curve(Y_train,knn_optimal.predict_proba(tfidf_sent_vectors_train)[:,1] )\n",
    "test_fpr,test_tpr,thresholds = roc_curve(Y_test,knn_optimal.predict_proba(tfidf_sent_vectors_test)[:,1])\n",
    "plt.plot(train_fpr,train_tpr,label='Train-AUC :'+str(auc(train_fpr,train_tpr)))\n",
    "plt.plot(test_fpr,test_tpr,label='Test-Auc'+str(auc(test_fpr,test_tpr)))\n",
    "AUC8 = str(auc(test_fpr,test_tpr))\n",
    "plt.legend()\n",
    "plt.xlabel(\"HyperParameter- K \")\n",
    "plt.ylabel(\"AUC\")\n",
    "plt.title(\"AUC - Error Plots\")"
   ]
  },
  {
   "cell_type": "code",
   "execution_count": 222,
   "metadata": {},
   "outputs": [
    {
     "name": "stdout",
     "output_type": "stream",
     "text": [
      "Train Confusion Matrix \n",
      "[[2955 1033]\n",
      " [1546 2466]]\n",
      "Test Confusion Matrix \n",
      "[[689 323]\n",
      " [448 540]]\n"
     ]
    }
   ],
   "source": [
    "#Confusion Matrix\n",
    "from sklearn.metrics import confusion_matrix\n",
    "print(\"Train Confusion Matrix \")\n",
    "print(confusion_matrix(Y_train,knn_optimal.predict(tfidf_sent_vectors_train)))\n",
    "print(\"Test Confusion Matrix \")\n",
    "print(confusion_matrix(Y_test,knn_optimal.predict(tfidf_sent_vectors_test)))"
   ]
  },
  {
   "cell_type": "code",
   "execution_count": 223,
   "metadata": {},
   "outputs": [
    {
     "name": "stdout",
     "output_type": "stream",
     "text": [
      "             precision    recall  f1-score   support\n",
      "\n",
      "          0       0.61      0.68      0.64      1012\n",
      "          1       0.63      0.55      0.58       988\n",
      "\n",
      "avg / total       0.62      0.61      0.61      2000\n",
      "\n"
     ]
    }
   ],
   "source": [
    "#Classification Report:\n",
    "from sklearn.metrics import classification_report\n",
    "print(classification_report(Y_test,pred))"
   ]
  },
  {
   "cell_type": "markdown",
   "metadata": {
    "colab_type": "text",
    "id": "crZ4qBCyDYN7"
   },
   "source": [
    "# [6] Conclusions"
   ]
  },
  {
   "cell_type": "code",
   "execution_count": 226,
   "metadata": {
    "colab": {},
    "colab_type": "code",
    "id": "9OacHxi1DYN8"
   },
   "outputs": [
    {
     "name": "stdout",
     "output_type": "stream",
     "text": [
      "+--------------+---------+----------------+-------+\n",
      "|  Vectorizer  |  Model  | Hyperparameter |  AUC  |\n",
      "+--------------+---------+----------------+-------+\n",
      "|     BOW      |  brute  |       65       | 0.769 |\n",
      "|    TFIDF     |  brute  |      330       | 0.919 |\n",
      "|   AVG W2V    |  brute  |       45       | 0.718 |\n",
      "| Weighted W2V |  brute  |       60       | 0.683 |\n",
      "|     BOW      | kd_tree |       75       | 0.762 |\n",
      "|    TFIDF     | kd_tree |      125       | 0.901 |\n",
      "|   AVG W2V    | kd_tree |       35       | 0.703 |\n",
      "| Weighted W2V | kd_tree |       20       | 0.664 |\n",
      "+--------------+---------+----------------+-------+\n"
     ]
    }
   ],
   "source": [
    "# Please compare all your models using Prettytable library\n",
    "from prettytable import PrettyTable\n",
    "comparison = PrettyTable()\n",
    "comparison.field_names = [\"Vectorizer\", \"Model\", \"Hyperparameter\", \"AUC\"]\n",
    "comparison.add_row([\"BOW\", 'brute', optimal_k, np.round(float(AUC1),3)])\n",
    "comparison.add_row([\"TFIDF\", 'brute', optimal_k2, np.round(float(AUC2),3)])\n",
    "comparison.add_row([\"AVG W2V\", 'brute', optimal_k3, np.round(float(AUC3),3)])\n",
    "comparison.add_row([\"Weighted W2V\", 'brute', optimal_k4,np.round(float(AUC4),3)])\n",
    "comparison.add_row([\"BOW\", 'kd_tree', optimal_k5, np.round(float(AUC5),3)])\n",
    "comparison.add_row([\"TFIDF\", 'kd_tree', optimal_k6, np.round(float(AUC6),3)])\n",
    "comparison.add_row([\"AVG W2V\", 'kd_tree', optimal_k7, np.round(float(AUC7),3)])\n",
    "comparison.add_row([\"Weighted W2V\", 'kd_tree', optimal_k8, np.round(float(AUC8),3)])\n",
    "print(comparison)"
   ]
  },
  {
   "cell_type": "markdown",
   "metadata": {},
   "source": [
    "From the above statistics , we can observe that Tf-Idf with hyperparameter k as 330NN With the Brute Force Algorithm given best AUC <br>\n",
    "For compatible model which will not over fit or under fit, we have split our data into Train,CV,Test<br>\n",
    "Even though we have trained our model using Train Data, we cannot be sure that our model works same on unseen data as our data is not splitted on time base"
   ]
  },
  {
   "cell_type": "code",
   "execution_count": null,
   "metadata": {},
   "outputs": [],
   "source": []
  }
 ],
 "metadata": {
  "colab": {
   "name": "03 Amazon Fine Food Reviews Analysis_KNN.ipynb",
   "provenance": [],
   "version": "0.3.2"
  },
  "kernelspec": {
   "display_name": "Python 3",
   "language": "python",
   "name": "python3"
  },
  "language_info": {
   "codemirror_mode": {
    "name": "ipython",
    "version": 3
   },
   "file_extension": ".py",
   "mimetype": "text/x-python",
   "name": "python",
   "nbconvert_exporter": "python",
   "pygments_lexer": "ipython3",
   "version": "3.6.5"
  }
 },
 "nbformat": 4,
 "nbformat_minor": 1
}
